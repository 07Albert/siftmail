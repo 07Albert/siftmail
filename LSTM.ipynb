{
 "cells": [
  {
   "cell_type": "markdown",
   "metadata": {},
   "source": [
    "# Project Configs and Imports"
   ]
  },
  {
   "cell_type": "code",
   "execution_count": null,
   "metadata": {
    "ExecuteTime": {
     "end_time": "2021-01-22T19:28:47.977134Z",
     "start_time": "2021-01-22T19:28:47.973132Z"
    }
   },
   "outputs": [
    {
     "name": "stderr",
     "output_type": "stream",
     "text": [
      "2025-08-04 17:58:22.776232: I tensorflow/core/platform/cpu_feature_guard.cc:210] This TensorFlow binary is optimized to use available CPU instructions in performance-critical operations.\n",
      "To enable the following instructions: AVX2 FMA, in other operations, rebuild TensorFlow with the appropriate compiler flags.\n",
      "2025-08-04 17:58:23.450017: W tensorflow/compiler/tf2tensorrt/utils/py_utils.cc:38] TF-TRT Warning: Could not find TensorRT\n"
     ]
    },
    {
     "name": "stdout",
     "output_type": "stream",
     "text": [
      "TensorFlow version: 2.16.1\n",
      "GPU available: []\n",
      "Python version: 3.10.12 (main, May 27 2025, 17:12:29) [GCC 11.4.0]\n"
     ]
    },
    {
     "name": "stderr",
     "output_type": "stream",
     "text": [
      "2025-08-04 17:58:25.076277: I external/local_xla/xla/stream_executor/cuda/cuda_executor.cc:984] could not open file to read NUMA node: /sys/bus/pci/devices/0000:01:00.0/numa_node\n",
      "Your kernel may have been built without NUMA support.\n",
      "2025-08-04 17:58:25.076527: W tensorflow/core/common_runtime/gpu/gpu_device.cc:2251] Cannot dlopen some GPU libraries. Please make sure the missing libraries mentioned above are installed properly if you would like to use GPU. Follow the guide at https://www.tensorflow.org/install/gpu for how to download and setup the required libraries for your platform.\n",
      "Skipping registering GPU devices...\n"
     ]
    }
   ],
   "source": [
    "import os\n",
    "import warnings\n",
    "import logging\n",
    "from datetime import datetime\n",
    "from pathlib import Path\n",
    "import sys\n",
    "\n",
    "warnings.filterwarnings('ignore')\n",
    "\n",
    "os.environ[\"CUDA_DEVICE_ORDER\"] = \"PCI_BUS_ID\"\n",
    "os.environ[\"CUDA_VISIBLE_DEVICES\"] = \"0\"\n",
    "\n",
    "import numpy as np \n",
    "import pandas as pd\n",
    "import matplotlib.pyplot as plt\n",
    "import seaborn as sns\n",
    "from matplotlib import rcParams\n",
    "\n",
    "import tensorflow as tf\n",
    "from tensorflow.keras.preprocessing.text import Tokenizer\n",
    "from tensorflow.keras.preprocessing.sequence import pad_sequences\n",
    "from tensorflow.keras.layers import (\n",
    "    BatchNormalization, Conv2D, MaxPooling2D, Activation, Dropout, \n",
    "    Dense, Embedding, LSTM, SpatialDropout1D, Flatten, Input, \n",
    "    concatenate, Bidirectional, GlobalMaxPooling1D, GRU\n",
    ")\n",
    "from tensorflow.keras.models import Model, Sequential\n",
    "from tensorflow.keras.callbacks import (\n",
    "    EarlyStopping, ModelCheckpoint, ReduceLROnPlateau, \n",
    "    TensorBoard, CSVLogger\n",
    ")\n",
    "from tensorflow.keras import regularizers\n",
    "from tensorflow.keras.optimizers import Adam\n",
    "from tensorflow.keras.utils import to_categorical\n",
    "from tensorflow.keras.metrics import Precision, Recall, AUC\n",
    "\n",
    "from sklearn.model_selection import train_test_split, StratifiedKFold, cross_val_score\n",
    "from sklearn.preprocessing import MinMaxScaler, LabelEncoder, StandardScaler\n",
    "from sklearn.metrics import (\n",
    "    classification_report, confusion_matrix, accuracy_score,\n",
    "    precision_recall_fscore_support, roc_auc_score, log_loss,\n",
    "    f1_score, precision_score, recall_score\n",
    ")\n",
    "from sklearn.utils.class_weight import compute_class_weight\n",
    "from sklearn.utils import resample\n",
    "\n",
    "import nltk\n",
    "from nltk.corpus import stopwords\n",
    "from nltk.tokenize import word_tokenize\n",
    "from nltk.stem import WordNetLemmatizer, PorterStemmer\n",
    "import re\n",
    "import pickle\n",
    "from collections import Counter\n",
    "import json\n",
    "import joblib\n",
    "from typing import Tuple, List, Dict, Any, Optional\n",
    "import gc\n",
    "\n",
    "import plotly.express as px\n",
    "import plotly.graph_objects as go\n",
    "from plotly.subplots import make_subplots\n",
    "\n",
    "\n",
    "try:\n",
    "    nltk.download('stopwords', quiet=True)\n",
    "    nltk.download('punkt', quiet=True)\n",
    "    nltk.download('wordnet', quiet=True)\n",
    "    nltk.download('omw-1.4', quiet=True)\n",
    "    nltk.download('averaged_perceptron_tagger', quiet=True)\n",
    "except Exception as e:\n",
    "    print(f\"Warning: Could not download NLTK data: {e}\")\n",
    "\n",
    "# Set random seed\n",
    "SEED = 67\n",
    "np.random.seed(SEED)\n",
    "tf.random.set_seed(SEED)\n",
    "\n",
    "rcParams['figure.figsize'] = (12, 8)\n",
    "rcParams['font.size'] = 12\n",
    "\n",
    "print(f\"TensorFlow version: {tf.__version__}\")\n",
    "print(f\"GPU available: {tf.config.list_physical_devices('GPU')}\")\n",
    "print(f\"Python version: {sys.version}\")"
   ]
  },
  {
   "cell_type": "code",
   "execution_count": null,
   "metadata": {},
   "outputs": [],
   "source": [
    "class Config:\n",
    "    \n",
    "    MAX_WORDS = 50000  \n",
    "    MAX_LENGTH = 250\n",
    "    EMBEDDING_DIM = 100\n",
    "    \n",
    "    BATCH_SIZE = 64  \n",
    "    EPOCHS = 50\n",
    "    VALIDATION_SPLIT = 0.15  \n",
    "    TEST_SIZE = 0.15 \n",
    "    \n",
    "    LEARNING_RATE = 0.001\n",
    "    LEARNING_RATE_PATIENCE = 5\n",
    "    LEARNING_RATE_FACTOR = 0.5\n",
    "    \n",
    "    DROPOUT_RATE = 0.3\n",
    "    RECURRENT_DROPOUT_RATE = 0.2\n",
    "    L1_REGULARIZATION = 0.01\n",
    "    L2_REGULARIZATION = 0.01\n",
    "    \n",
    "    EARLY_STOPPING_PATIENCE = 7\n",
    "    EARLY_STOPPING_MIN_DELTA = 0.001\n",
    "   \n",
    "    DATA_PATH = 'siftmail/Datasets/master_dataset.csv'\n",
    "    MODEL_SAVE_PATH = 'siftmail/Models/'\n",
    "    TOKENIZER_SAVE_PATH = 'siftmail/Models/tokenizer.pickle'\n",
    "    LOG_PATH = 'siftmail/Logs/'\n",
    "    RESULTS_PATH = 'Results/'\n",
    "   \n",
    "\n",
    "    LABEL_MAPPING = {\n",
    "        0: 'Other',\n",
    "        1: 'Sent',  # Will be dropped\n",
    "        2: 'Unclassified',  # Will be dropped\n",
    "        3: 'Legal/Corporate',\n",
    "        4: 'Personal',\n",
    "        5: 'Business',\n",
    "        6: 'Technical',\n",
    "        7: 'Financial',\n",
    "        8: 'Administrative',\n",
    "        9: 'Marketing',\n",
    "        10: 'Education'\n",
    "    }\n",
    "    \n",
    "    @classmethod\n",
    "    def create_directories(cls):\n",
    "        \"\"\"Create necessary directories if they don't exist\"\"\"\n",
    "        directories = [cls.MODEL_SAVE_PATH, cls.LOG_PATH, cls.RESULTS_PATH]\n",
    "        for directory in directories:\n",
    "            Path(directory).mkdir(parents=True, exist_ok=True)\n",
    "\n",
    "\n",
    "def setup_logging():\n",
    "    \"\"\"Setup comprehensive logging\"\"\"\n",
    "    log_file = f\"{Config.LOG_PATH}/lstm_training_{datetime.now().strftime('%Y%m%d_%H%M%S')}.log\"\n",
    "    \n",
    "    logging.basicConfig(\n",
    "        level=logging.INFO,\n",
    "        format='%(asctime)s - %(name)s - %(levelname)s - %(message)s',\n",
    "        handlers=[\n",
    "            logging.FileHandler(log_file),\n",
    "            logging.StreamHandler()\n",
    "        ]\n",
    "    )\n",
    "    return logging.getLogger(__name__)\n",
    "\n",
    "Config.create_directories()\n",
    "logger = setup_logging()"
   ]
  },
  {
   "cell_type": "markdown",
   "metadata": {},
   "source": [
    "# Data Loading"
   ]
  },
  {
   "cell_type": "code",
   "execution_count": null,
   "metadata": {
    "ExecuteTime": {
     "end_time": "2021-01-22T19:29:00.663316Z",
     "start_time": "2021-01-22T19:28:51.969009Z"
    },
    "colab": {},
    "colab_type": "code",
    "id": "7-qB6-OPcpk3"
   },
   "outputs": [
    {
     "name": "stderr",
     "output_type": "stream",
     "text": [
      "2025-08-04 17:58:27,888 - __main__ - INFO - Loading data from siftmail/Datasets/master_dataset.csv\n",
      "2025-08-04 17:58:29,371 - __main__ - INFO - Loaded dataset with shape: (101288, 17)\n",
      "2025-08-04 17:58:29,379 - __main__ - INFO - Data types: Message-Body       object\n",
      "label             float64\n",
      "Day_of_week        object\n",
      "message_length      int64\n",
      "dtype: object\n",
      "2025-08-04 17:58:29,412 - __main__ - INFO - Memory usage: 384.84 MB\n"
     ]
    }
   ],
   "source": [
    "def loadData(file_path: str) -> pd.DataFrame:\n",
    "    \"\"\"Load and validate the dataset with comprehensive error handling\"\"\"\n",
    "    try:\n",
    "        logger.info(f\"Loading data from {file_path}\")\n",
    "        data = pd.read_csv(file_path, index_col=0)\n",
    "        logger.info(f\"Loaded dataset with shape: {data.shape}\")\n",
    "\n",
    "        required_columns = ['Message-Body', 'label', 'Day_of_week', 'message_length']\n",
    "        missing_columns = [col for col in required_columns if col not in data.columns]\n",
    "        \n",
    "        if missing_columns:\n",
    "            raise ValueError(f\"Missing required columns: {missing_columns}\")\n",
    "\n",
    "        null_counts = data[required_columns].isnull().sum()\n",
    "        if null_counts.any():\n",
    "            logger.warning(f\"Null values found: {null_counts[null_counts > 0]}\")\n",
    "\n",
    "        logger.info(f\"Data types: {data[required_columns].dtypes}\")\n",
    "        logger.info(f\"Memory usage: {data.memory_usage(deep=True).sum() / 1024**2:.2f} MB\")\n",
    "        \n",
    "        return data\n",
    "        \n",
    "    except FileNotFoundError:\n",
    "        logger.error(f\"File not found: {file_path}\")\n",
    "        raise\n",
    "    except Exception as e:\n",
    "        logger.error(f\"Error loading data: {e}\")\n",
    "        raise\n",
    "\n",
    "# Load data\n",
    "data = loadData(Config.DATA_PATH)\n",
    "df = data.copy()"
   ]
  },
  {
   "cell_type": "markdown",
   "metadata": {},
   "source": [
    "# Preprocess data\n",
    "Cleaning and preparation of the dataset to ensure it is in a consistent and usable format for analysis.\n",
    "We will remove irrelevant columns, handle missing values, and inconsistent data types.\n",
    "\n",
    "Ensures that the dataset only contains necessary features, data is clean and well formatted."
   ]
  },
  {
   "cell_type": "code",
   "execution_count": null,
   "metadata": {
    "ExecuteTime": {
     "end_time": "2021-01-22T19:29:00.877426Z",
     "start_time": "2021-01-22T19:29:00.689353Z"
    },
    "colab": {},
    "colab_type": "code",
    "id": "D9O-lo2dcplA"
   },
   "outputs": [
    {
     "name": "stderr",
     "output_type": "stream",
     "text": [
      "2025-08-04 17:58:31,263 - __main__ - INFO - Starting data preprocessing\n",
      "2025-08-04 17:58:31,272 - __main__ - INFO - Removed 0 rows with null values\n",
      "2025-08-04 17:58:31,279 - __main__ - INFO - Final dataset shape: (101288, 4)\n"
     ]
    }
   ],
   "source": [
    "def preprocess_data(df: pd.DataFrame) -> pd.DataFrame:\n",
    "    logger.info(\"Starting data preprocessing\")\n",
    "\n",
    "    columns_to_keep = ['Message-Body', 'label', 'Day_of_week', 'message_length']\n",
    "    df_processed = df[columns_to_keep].copy()\n",
    "    initial_rows = len(df_processed)\n",
    "    df_processed.dropna(axis=0, how='any', inplace=True)\n",
    "    df_processed.reset_index(drop=True, inplace=True)\n",
    "    logger.info(f\"Removed {initial_rows - len(df_processed)} rows with null values\")\n",
    "    df_processed[\"label\"] = df_processed[\"label\"].astype('category')\n",
    "    df_processed[\"Day_of_week\"] = df_processed[\"Day_of_week\"].astype('category')\n",
    "    \n",
    "    logger.info(f\"Final dataset shape: {df_processed.shape}\")\n",
    "    return df_processed\n",
    "\n",
    "df = preprocess_data(df)"
   ]
  },
  {
   "cell_type": "code",
   "execution_count": 139,
   "metadata": {
    "ExecuteTime": {
     "end_time": "2021-01-22T19:29:00.888429Z",
     "start_time": "2021-01-22T19:29:00.878418Z"
    },
    "colab": {},
    "colab_type": "code",
    "id": "sCxBd-PhcplF",
    "outputId": "a6dd6cc9-39bb-4bf5-bb3d-5384fd82f5a6"
   },
   "outputs": [
    {
     "data": {
      "text/html": [
       "<div>\n",
       "<style scoped>\n",
       "    .dataframe tbody tr th:only-of-type {\n",
       "        vertical-align: middle;\n",
       "    }\n",
       "\n",
       "    .dataframe tbody tr th {\n",
       "        vertical-align: top;\n",
       "    }\n",
       "\n",
       "    .dataframe thead th {\n",
       "        text-align: right;\n",
       "    }\n",
       "</style>\n",
       "<table border=\"1\" class=\"dataframe\">\n",
       "  <thead>\n",
       "    <tr style=\"text-align: right;\">\n",
       "      <th></th>\n",
       "      <th>Message-Body</th>\n",
       "      <th>label</th>\n",
       "      <th>Day_of_week</th>\n",
       "      <th>message_length</th>\n",
       "    </tr>\n",
       "  </thead>\n",
       "  <tbody>\n",
       "    <tr>\n",
       "      <th>0</th>\n",
       "      <td>loan servicing-jessica weeber 800-393-5626 jwe...</td>\n",
       "      <td>1.0</td>\n",
       "      <td>Mon</td>\n",
       "      <td>61</td>\n",
       "    </tr>\n",
       "    <tr>\n",
       "      <th>1</th>\n",
       "      <td>exit mccollough off 410</td>\n",
       "      <td>1.0</td>\n",
       "      <td>Mon</td>\n",
       "      <td>23</td>\n",
       "    </tr>\n",
       "    <tr>\n",
       "      <th>2</th>\n",
       "      <td>attached  are two files that illustrate the fo...</td>\n",
       "      <td>1.0</td>\n",
       "      <td>Wed</td>\n",
       "      <td>181</td>\n",
       "    </tr>\n",
       "    <tr>\n",
       "      <th>3</th>\n",
       "      <td>financial  (6)\\n  west desk  (14)\\nmid market ...</td>\n",
       "      <td>1.0</td>\n",
       "      <td>Tue</td>\n",
       "      <td>48</td>\n",
       "    </tr>\n",
       "    <tr>\n",
       "      <th>4</th>\n",
       "      <td>---------------------- forwarded by phillip k ...</td>\n",
       "      <td>1.0</td>\n",
       "      <td>Wed</td>\n",
       "      <td>511</td>\n",
       "    </tr>\n",
       "  </tbody>\n",
       "</table>\n",
       "</div>"
      ],
      "text/plain": [
       "                                        Message-Body label Day_of_week  \\\n",
       "0  loan servicing-jessica weeber 800-393-5626 jwe...   1.0         Mon   \n",
       "1                            exit mccollough off 410   1.0         Mon   \n",
       "2  attached  are two files that illustrate the fo...   1.0         Wed   \n",
       "3  financial  (6)\\n  west desk  (14)\\nmid market ...   1.0         Tue   \n",
       "4  ---------------------- forwarded by phillip k ...   1.0         Wed   \n",
       "\n",
       "   message_length  \n",
       "0              61  \n",
       "1              23  \n",
       "2             181  \n",
       "3              48  \n",
       "4             511  "
      ]
     },
     "execution_count": 139,
     "metadata": {},
     "output_type": "execute_result"
    }
   ],
   "source": [
    "df.head()"
   ]
  },
  {
   "cell_type": "markdown",
   "metadata": {
    "colab_type": "text",
    "id": "oMDymAGfcplu"
   },
   "source": [
    "As we can observe, we have 517401 rows and 4 columns counting the label. Let us convert both the day of the week and the label to categorical columns:"
   ]
  },
  {
   "cell_type": "code",
   "execution_count": 5,
   "metadata": {
    "ExecuteTime": {
     "end_time": "2021-01-22T19:29:01.039562Z",
     "start_time": "2021-01-22T19:29:00.987560Z"
    },
    "colab": {},
    "colab_type": "code",
    "id": "vPdhLbhHcplw"
   },
   "outputs": [],
   "source": [
    "df[\"label\"] = df[\"label\"].astype('category')\n",
    "df[\"Day_of_week\"] = df[\"Day_of_week\"].astype('category')"
   ]
  },
  {
   "cell_type": "code",
   "execution_count": null,
   "metadata": {
    "ExecuteTime": {
     "end_time": "2021-01-22T19:29:01.043563Z",
     "start_time": "2021-01-22T19:29:01.040572Z"
    },
    "colab": {},
    "colab_type": "code",
    "id": "7_eOkAKccpl1",
    "outputId": "b0b6792b-d2d9-4ef0-94a1-b458aa55bafa"
   },
   "outputs": [
    {
     "data": {
      "image/png": "[encoded data removed]",
      "text/plain": [
       "<Figure size 1200x600 with 1 Axes>"
      ]
     },
     "metadata": {},
     "output_type": "display_data"
    },
    {
     "name": "stdout",
     "output_type": "stream",
     "text": [
      "Label distribution:\n",
      "label\n",
      "1.0     75361\n",
      "3.0      9835\n",
      "7.0      3386\n",
      "5.0      3376\n",
      "4.0      2719\n",
      "0.0      2355\n",
      "8.0      1745\n",
      "10.0     1548\n",
      "6.0       658\n",
      "9.0       305\n",
      "Name: count, dtype: int64\n",
      "\n",
      "Total samples: 101288\n",
      "Number of classes: 10\n",
      "Class imbalance ratio: 247.09\n",
      "Message length statistics:\n",
      "count    101288.000000\n",
      "mean       1247.589171\n",
      "std        1726.418974\n",
      "min           1.000000\n",
      "25%         214.000000\n",
      "50%         635.000000\n",
      "75%        1523.000000\n",
      "max       10000.000000\n",
      "Name: message_length, dtype: float64\n",
      "\n",
      "Day of week distribution:\n",
      "Day_of_week\n",
      "Tue    21592\n",
      "Wed    21298\n",
      "Mon    19178\n",
      "Thu    18983\n",
      "Fri    16948\n",
      "Sun     2238\n",
      "Sat     1051\n",
      "Name: count, dtype: int64\n",
      "\n",
      "Word count statistics:\n",
      "count    101288.000000\n",
      "mean        183.571361\n",
      "std         255.148948\n",
      "min           1.000000\n",
      "25%          33.000000\n",
      "50%          94.000000\n",
      "75%         222.000000\n",
      "max        2494.000000\n",
      "Name: Message-Body, dtype: float64\n"
     ]
    }
   ],
   "source": [
    "def analyze_label_distribution(df: pd.DataFrame, title: str = \"Label Distribution\") -> None:\n",
    "    \"\"\"Analyze and visualize label distribution\"\"\"\n",
    "    label_counts = df['label'].value_counts().sort_values(ascending=False)\n",
    "\n",
    "    plt.figure(figsize=(12, 6))\n",
    "    label_counts.plot(kind='bar')\n",
    "    \n",
    "    plt.title(title, fontsize=14, fontweight='bold')\n",
    "    plt.xlabel('Label', fontsize=12)\n",
    "    plt.ylabel('Count', fontsize=12)\n",
    "    plt.xticks(rotation=45, ha='right')\n",
    "    plt.grid(axis='y', alpha=0.3)\n",
    "\n",
    "    for i, v in enumerate(label_counts):\n",
    "        plt.text(i, v + max(label_counts) * 0.01, str(v), \n",
    "                 ha='center', va='bottom', fontweight='bold')\n",
    "    \n",
    "    plt.tight_layout()\n",
    "    plt.show()\n",
    "\n",
    "    print(\"Label distribution:\")\n",
    "    print(label_counts)\n",
    "    print(f\"\\nTotal samples: {len(df)}\")\n",
    "    print(f\"Number of classes: {len(label_counts)}\")\n",
    "    print(f\"Class imbalance ratio: {label_counts.max() / label_counts.min():.2f}\")\n",
    "\n",
    "def analyze_text_statistics(df: pd.DataFrame) -> None:\n",
    "    \"\"\"Analyze text statistics\"\"\"\n",
    "    length_stats = df['message_length'].describe()\n",
    "    print(\"Message length statistics:\")\n",
    "    print(length_stats)\n",
    "    day_counts = df['Day_of_week'].value_counts()\n",
    "    print(\"\\nDay of week distribution:\")\n",
    "    print(day_counts)\n",
    "    word_counts = df['Message-Body'].str.split().str.len()\n",
    "    word_stats = word_counts.describe()\n",
    "    print(\"\\nWord count statistics:\")\n",
    "    print(word_stats)\n",
    "\n",
    "analyze_label_distribution(df)\n",
    "analyze_text_statistics(df)"
   ]
  },
  {
   "cell_type": "markdown",
   "metadata": {},
   "source": [
    "### Filtering out irrelevant columns, as well as removing labels 1,2 as data is heavily skewed."
   ]
  },
  {
   "cell_type": "code",
   "execution_count": 7,
   "metadata": {},
   "outputs": [
    {
     "name": "stdout",
     "output_type": "stream",
     "text": [
      "Removed 75361 samples from classes [1.0, 2.0]\n",
      "Final dataset shape: (25927, 4)\n"
     ]
    }
   ],
   "source": [
    "\n",
    "def balance_dataset(df: pd.DataFrame, target_column: str = 'label', \n",
    "                   classes_to_remove: List = None, \n",
    "                   max_samples_per_class: int = None) -> pd.DataFrame:\n",
    "\n",
    "    df_balanced = df.copy()\n",
    "    if classes_to_remove:\n",
    "        initial_count = len(df_balanced)\n",
    "        df_balanced = df_balanced[~df_balanced[target_column].isin(classes_to_remove)]\n",
    "        removed_count = initial_count - len(df_balanced)\n",
    "        print(f\"Removed {removed_count} samples from classes {classes_to_remove}\")\n",
    "    if max_samples_per_class:\n",
    "        balanced_samples = []\n",
    "        for class_label in df_balanced[target_column].unique():\n",
    "            class_data = df_balanced[df_balanced[target_column] == class_label]\n",
    "            if len(class_data) > max_samples_per_class:\n",
    "                class_data = class_data.sample(n=max_samples_per_class, random_state=SEED)\n",
    "            balanced_samples.append(class_data)\n",
    "        \n",
    "        df_balanced = pd.concat(balanced_samples, ignore_index=True)\n",
    "        print(f\"Limited to {max_samples_per_class} samples per class\")\n",
    "\n",
    "    df_balanced.reset_index(drop=True, inplace=True)\n",
    "    print(f\"Final dataset shape: {df_balanced.shape}\")\n",
    "    return df_balanced\n",
    "\n",
    "df = balance_dataset(df, classes_to_remove=[1.0, 2.0])"
   ]
  },
  {
   "cell_type": "code",
   "execution_count": 8,
   "metadata": {
    "ExecuteTime": {
     "end_time": "2021-01-22T19:29:01.282175Z",
     "start_time": "2021-01-22T19:29:01.280174Z"
    },
    "colab": {},
    "colab_type": "code",
    "id": "BjgHtAOtcpmI",
    "outputId": "a3185f93-f343-40dd-d675-d85c04439ff4"
   },
   "outputs": [
    {
     "data": {
      "image/png": "[encoded data removed]",
      "text/plain": [
       "<Figure size 1200x600 with 1 Axes>"
      ]
     },
     "metadata": {},
     "output_type": "display_data"
    },
    {
     "name": "stdout",
     "output_type": "stream",
     "text": [
      "Label distribution:\n",
      "label\n",
      "3.0     9835\n",
      "7.0     3386\n",
      "5.0     3376\n",
      "4.0     2719\n",
      "0.0     2355\n",
      "8.0     1745\n",
      "10.0    1548\n",
      "6.0      658\n",
      "9.0      305\n",
      "1.0        0\n",
      "Name: count, dtype: int64\n",
      "\n",
      "Total samples: 25927\n",
      "Number of classes: 10\n",
      "Class imbalance ratio: inf\n",
      "Message length statistics:\n",
      "count    25927.000000\n",
      "mean      1556.843291\n",
      "std       1970.140037\n",
      "min          1.000000\n",
      "25%        350.000000\n",
      "50%        866.000000\n",
      "75%       1882.500000\n",
      "max      10000.000000\n",
      "Name: message_length, dtype: float64\n",
      "\n",
      "Day of week distribution:\n",
      "Day_of_week\n",
      "Tue    5243\n",
      "Wed    5173\n",
      "Thu    4977\n",
      "Mon    4970\n",
      "Fri    4841\n",
      "Sun     482\n",
      "Sat     241\n",
      "Name: count, dtype: int64\n",
      "\n",
      "Word count statistics:\n",
      "count    25927.000000\n",
      "mean       235.254792\n",
      "std        295.634137\n",
      "min          1.000000\n",
      "25%         55.000000\n",
      "50%        132.000000\n",
      "75%        285.000000\n",
      "max       2133.000000\n",
      "Name: Message-Body, dtype: float64\n"
     ]
    }
   ],
   "source": [
    "analyze_label_distribution(df)\n",
    "analyze_text_statistics(df)"
   ]
  },
  {
   "cell_type": "markdown",
   "metadata": {
    "colab_type": "text",
    "id": "K8WHv6j6cpmO"
   },
   "source": [
    "The heavy skew towards label 3 is due to the dataset we are using. Label 3 \"refer to the config\" being Legal/Corporate. This is because the Enron email dataset contains a lot of corporate emails. "
   ]
  },
  {
   "cell_type": "code",
   "execution_count": 32,
   "metadata": {
    "ExecuteTime": {
     "end_time": "2021-01-22T19:29:01.288176Z",
     "start_time": "2021-01-22T19:29:01.283176Z"
    },
    "colab": {},
    "colab_type": "code",
    "id": "4cz_vBnAcpmP"
   },
   "outputs": [],
   "source": [
    "df = df.reset_index()"
   ]
  },
  {
   "cell_type": "markdown",
   "metadata": {
    "colab_type": "text",
    "id": "r1RL9y1zcpmt"
   },
   "source": [
    "### Text Cleanup,\n",
    "As raw email data can include noise like email addresses, url, inconsistent casing, and other tokens that hurt the machine learning process we will perform text cleaning."
   ]
  },
  {
   "cell_type": "code",
   "execution_count": 9,
   "metadata": {
    "ExecuteTime": {
     "end_time": "2021-01-22T19:29:06.956480Z",
     "start_time": "2021-01-22T19:29:01.308091Z"
    },
    "colab": {},
    "colab_type": "code",
    "id": "Rq2kJrE1cpmx"
   },
   "outputs": [
    {
     "name": "stderr",
     "output_type": "stream",
     "text": [
      "2025-08-04 18:03:37,237 - __main__ - INFO - Starting text cleaning\n",
      "2025-08-04 18:03:38,165 - __main__ - INFO - Removed 22 empty texts after cleaning\n",
      "2025-08-04 18:03:38,165 - __main__ - INFO - Final dataset shape after cleaning: (25905, 4)\n"
     ]
    }
   ],
   "source": [
    "def text_cleaning(text: str) -> str:\n",
    "    \"\"\"Advanced text cleaning with multiple preprocessing steps\"\"\"\n",
    "    if pd.isna(text) or text == '':\n",
    "        return ''\n",
    "\n",
    "    text = text.lower()\n",
    "\n",
    "    text = re.sub(r'\\S*@\\S*\\s?', '', text)\n",
    "\n",
    "    text = re.sub(r'http[s]?://(?:[a-zA-Z]|[0-9]|[$-_@.&+]|[!*\\\\(\\\\),]|(?:%[0-9a-fA-F][0-9a-fA-F]))+', '', text)\n",
    "\n",
    "    text = re.sub(r'[/(){}\\[\\]\\|@,;]', ' ', text)\n",
    "\n",
    "    text = ' '.join(text.split())\n",
    "\n",
    "    return text\n",
    "\n",
    "def clean_dataset_texts(df: pd.DataFrame) -> pd.DataFrame:\n",
    "    logger.info(\"Starting text cleaning\")\n",
    "    df_cleaned = df.copy()\n",
    "    df_cleaned['Message-Body'] = df_cleaned['Message-Body'].apply(text_cleaning)\n",
    "    initial_rows = len(df_cleaned)\n",
    "    df_cleaned = df_cleaned[df_cleaned['Message-Body'].str.strip() != ''].copy()\n",
    "    df_cleaned.reset_index(drop=True, inplace=True)\n",
    "    logger.info(f\"Removed {initial_rows - len(df_cleaned)} empty texts after cleaning\")\n",
    "    logger.info(f\"Final dataset shape after cleaning: {df_cleaned.shape}\")\n",
    "    \n",
    "    return df_cleaned\n",
    "\n",
    "df = clean_dataset_texts(df)"
   ]
  },
  {
   "cell_type": "markdown",
   "metadata": {
    "colab_type": "text",
    "id": "2mKaSNlGcpnx"
   },
   "source": [
    "## Embedding / Tokenization"
   ]
  },
  {
   "cell_type": "code",
   "execution_count": null,
   "metadata": {
    "ExecuteTime": {
     "end_time": "2021-01-22T19:29:12.591045Z",
     "start_time": "2021-01-22T19:29:06.974485Z"
    },
    "colab": {},
    "colab_type": "code",
    "id": "9aEEGtnYcpn5"
   },
   "outputs": [
    {
     "name": "stderr",
     "output_type": "stream",
     "text": [
      "2025-08-04 18:04:53,603 - __main__ - INFO - Setting up tokenization\n",
      "2025-08-04 18:04:54,844 - __main__ - INFO - Vocabulary size: 90778\n",
      "2025-08-04 18:04:54,847 - __main__ - INFO - Most common words: [('<OOV>', 1), ('the', 2), ('to', 3), ('and', 4), ('of', 5), ('a', 6), ('in', 7), ('for', 8), ('is', 9), ('on', 10)]\n",
      "2025-08-04 18:04:55,670 - __main__ - INFO - Sequences shape: (25905, 250)\n"
     ]
    }
   ],
   "source": [
    "def setup_tokenization(df: pd.DataFrame) -> Tuple[Tokenizer, np.ndarray]:\n",
    "    \"\"\"Setup tokenization with proper configuration\"\"\"\n",
    "    logger.info(\"Setting up tokenization\")\n",
    "\n",
    "    tokenizer = Tokenizer(\n",
    "        num_words=Config.MAX_WORDS, \n",
    "        filters='!\"#$%&()*+,-./:;<=>?@[\\]^_`{|}~', \n",
    "        lower=True,\n",
    "        oov_token='<OOV>'\n",
    "    )\n",
    "    tokenizer.fit_on_texts(df['Message-Body'].values)\n",
    "    word_index = tokenizer.word_index\n",
    "    logger.info(f\"Vocabulary size: {len(word_index)}\")\n",
    "    logger.info(f\"Most common words: {list(word_index.items())[:10]}\")\n",
    "    X = tokenizer.texts_to_sequences(df['Message-Body'].values)\n",
    "    X = pad_sequences(X, maxlen=Config.MAX_LENGTH, padding='post', truncating='post')\n",
    "    logger.info(f\"Sequences shape: {X.shape}\")\n",
    "    return tokenizer, X\n",
    "\n",
    "tokenizer, X = setup_tokenization(df)"
   ]
  },
  {
   "cell_type": "markdown",
   "metadata": {
    "colab_type": "text",
    "id": "S29gr2g4cpoA"
   },
   "source": [
    "Let us use the tokenizer to turn the text into sequences:"
   ]
  },
  {
   "cell_type": "code",
   "execution_count": null,
   "metadata": {},
   "outputs": [
    {
     "name": "stderr",
     "output_type": "stream",
     "text": [
      "2025-08-04 18:05:21,974 - __main__ - INFO - Encoding labels\n",
      "2025-08-04 18:05:21,975 - __main__ - INFO - Unique labels: [0.0, 3.0, 4.0, 5.0, 6.0, 7.0, 8.0, 9.0, 10.0]\n",
      "2025-08-04 18:05:21,977 - __main__ - INFO - Label encoding shape: (25905, 10)\n",
      "2025-08-04 18:05:21,977 - __main__ - INFO - Label mapping: {0.0: 0, 3.0: 1, 4.0: 2, 5.0: 3, 6.0: 4, 7.0: 5, 8.0: 6, 9.0: 7, 10.0: 8}\n"
     ]
    }
   ],
   "source": [
    "def encode_labels(df: pd.DataFrame) -> Tuple[np.ndarray, Dict]:\n",
    "    logger.info(\"Encoding labels\")\n",
    "    unique_labels = sorted(df['label'].unique())\n",
    "    logger.info(f\"Unique labels: {unique_labels}\")\n",
    "    label_mapping = {label: idx for idx, label in enumerate(unique_labels)}\n",
    "    reverse_mapping = {idx: label for label, idx in label_mapping.items()}\n",
    "    Y = pd.get_dummies(df['label']).values\n",
    "    logger.info(f\"Label encoding shape: {Y.shape}\")\n",
    "    logger.info(f\"Label mapping: {label_mapping}\")\n",
    "    return Y, reverse_mapping\n",
    "\n",
    "Y, label_mapping = encode_labels(df)"
   ]
  },
  {
   "cell_type": "code",
   "execution_count": null,
   "metadata": {},
   "outputs": [
    {
     "name": "stderr",
     "output_type": "stream",
     "text": [
      "2025-08-04 18:06:07,726 - __main__ - INFO - Creating feature matrix\n",
      "2025-08-04 18:06:07,746 - __main__ - INFO - Feature matrix shape: (25905, 258)\n",
      "2025-08-04 18:06:07,746 - __main__ - INFO - Feature columns: ['seq_0', 'seq_1', 'seq_2', 'seq_3', 'seq_4', 'seq_5', 'seq_6', 'seq_7', 'seq_8', 'seq_9', 'seq_10', 'seq_11', 'seq_12', 'seq_13', 'seq_14', 'seq_15', 'seq_16', 'seq_17', 'seq_18', 'seq_19', 'seq_20', 'seq_21', 'seq_22', 'seq_23', 'seq_24', 'seq_25', 'seq_26', 'seq_27', 'seq_28', 'seq_29', 'seq_30', 'seq_31', 'seq_32', 'seq_33', 'seq_34', 'seq_35', 'seq_36', 'seq_37', 'seq_38', 'seq_39', 'seq_40', 'seq_41', 'seq_42', 'seq_43', 'seq_44', 'seq_45', 'seq_46', 'seq_47', 'seq_48', 'seq_49', 'seq_50', 'seq_51', 'seq_52', 'seq_53', 'seq_54', 'seq_55', 'seq_56', 'seq_57', 'seq_58', 'seq_59', 'seq_60', 'seq_61', 'seq_62', 'seq_63', 'seq_64', 'seq_65', 'seq_66', 'seq_67', 'seq_68', 'seq_69', 'seq_70', 'seq_71', 'seq_72', 'seq_73', 'seq_74', 'seq_75', 'seq_76', 'seq_77', 'seq_78', 'seq_79', 'seq_80', 'seq_81', 'seq_82', 'seq_83', 'seq_84', 'seq_85', 'seq_86', 'seq_87', 'seq_88', 'seq_89', 'seq_90', 'seq_91', 'seq_92', 'seq_93', 'seq_94', 'seq_95', 'seq_96', 'seq_97', 'seq_98', 'seq_99', 'seq_100', 'seq_101', 'seq_102', 'seq_103', 'seq_104', 'seq_105', 'seq_106', 'seq_107', 'seq_108', 'seq_109', 'seq_110', 'seq_111', 'seq_112', 'seq_113', 'seq_114', 'seq_115', 'seq_116', 'seq_117', 'seq_118', 'seq_119', 'seq_120', 'seq_121', 'seq_122', 'seq_123', 'seq_124', 'seq_125', 'seq_126', 'seq_127', 'seq_128', 'seq_129', 'seq_130', 'seq_131', 'seq_132', 'seq_133', 'seq_134', 'seq_135', 'seq_136', 'seq_137', 'seq_138', 'seq_139', 'seq_140', 'seq_141', 'seq_142', 'seq_143', 'seq_144', 'seq_145', 'seq_146', 'seq_147', 'seq_148', 'seq_149', 'seq_150', 'seq_151', 'seq_152', 'seq_153', 'seq_154', 'seq_155', 'seq_156', 'seq_157', 'seq_158', 'seq_159', 'seq_160', 'seq_161', 'seq_162', 'seq_163', 'seq_164', 'seq_165', 'seq_166', 'seq_167', 'seq_168', 'seq_169', 'seq_170', 'seq_171', 'seq_172', 'seq_173', 'seq_174', 'seq_175', 'seq_176', 'seq_177', 'seq_178', 'seq_179', 'seq_180', 'seq_181', 'seq_182', 'seq_183', 'seq_184', 'seq_185', 'seq_186', 'seq_187', 'seq_188', 'seq_189', 'seq_190', 'seq_191', 'seq_192', 'seq_193', 'seq_194', 'seq_195', 'seq_196', 'seq_197', 'seq_198', 'seq_199', 'seq_200', 'seq_201', 'seq_202', 'seq_203', 'seq_204', 'seq_205', 'seq_206', 'seq_207', 'seq_208', 'seq_209', 'seq_210', 'seq_211', 'seq_212', 'seq_213', 'seq_214', 'seq_215', 'seq_216', 'seq_217', 'seq_218', 'seq_219', 'seq_220', 'seq_221', 'seq_222', 'seq_223', 'seq_224', 'seq_225', 'seq_226', 'seq_227', 'seq_228', 'seq_229', 'seq_230', 'seq_231', 'seq_232', 'seq_233', 'seq_234', 'seq_235', 'seq_236', 'seq_237', 'seq_238', 'seq_239', 'seq_240', 'seq_241', 'seq_242', 'seq_243', 'seq_244', 'seq_245', 'seq_246', 'seq_247', 'seq_248', 'seq_249', 'Day_Fri', 'Day_Mon', 'Day_Sat', 'Day_Sun', 'Day_Thu', 'Day_Tue', 'Day_Wed', 'message_length_scaled']\n"
     ]
    }
   ],
   "source": [
    "def create_feature_matrix(X: np.ndarray, df: pd.DataFrame) -> pd.DataFrame:\n",
    "    logger.info(\"Creating feature matrix\")\n",
    "    sequence_cols = [f'seq_{i}' for i in range(X.shape[1])]\n",
    "    sequence_df = pd.DataFrame(X, columns=sequence_cols)\n",
    "    metadata_df = df[['Day_of_week', 'message_length']].copy()\n",
    "    day_dummies = pd.get_dummies(metadata_df['Day_of_week'], prefix='Day')\n",
    "    scaler = MinMaxScaler()\n",
    "    message_length_scaled = scaler.fit_transform(metadata_df[['message_length']])\n",
    "    metadata_df['message_length_scaled'] = message_length_scaled\n",
    "    feature_matrix = pd.concat([\n",
    "        sequence_df,\n",
    "        day_dummies,\n",
    "        metadata_df[['message_length_scaled']]\n",
    "    ], axis=1)\n",
    "    \n",
    "    logger.info(f\"Feature matrix shape: {feature_matrix.shape}\")\n",
    "    logger.info(f\"Feature columns: {list(feature_matrix.columns)}\")\n",
    "    \n",
    "    return feature_matrix\n",
    "\n",
    "feature_matrix = create_feature_matrix(X, df)"
   ]
  },
  {
   "cell_type": "code",
   "execution_count": null,
   "metadata": {},
   "outputs": [
    {
     "name": "stderr",
     "output_type": "stream",
     "text": [
      "2025-08-04 18:06:18,316 - __main__ - INFO - Splitting data into train/test sets\n",
      "2025-08-04 18:06:18,317 - __main__ - INFO - Number of unique classes: 9\n",
      "2025-08-04 18:06:18,336 - __main__ - INFO - Training set shape: (22019, 258)\n",
      "2025-08-04 18:06:18,336 - __main__ - INFO - Test set shape: (3886, 258)\n",
      "2025-08-04 18:06:18,337 - __main__ - INFO - Class distribution in training set:\n",
      "2025-08-04 18:06:18,337 - __main__ - INFO -   Class 0: 1999 (9.1%)\n",
      "2025-08-04 18:06:18,338 - __main__ - INFO -   Class 1: 0 (0.0%)\n",
      "2025-08-04 18:06:18,339 - __main__ - INFO -   Class 2: 8352 (37.9%)\n",
      "2025-08-04 18:06:18,339 - __main__ - INFO -   Class 3: 2308 (10.5%)\n",
      "2025-08-04 18:06:18,340 - __main__ - INFO -   Class 4: 2867 (13.0%)\n",
      "2025-08-04 18:06:18,340 - __main__ - INFO -   Class 5: 559 (2.5%)\n",
      "2025-08-04 18:06:18,341 - __main__ - INFO -   Class 6: 2877 (13.1%)\n",
      "2025-08-04 18:06:18,341 - __main__ - INFO -   Class 7: 1482 (6.7%)\n",
      "2025-08-04 18:06:18,341 - __main__ - INFO -   Class 8: 259 (1.2%)\n",
      "2025-08-04 18:06:18,342 - __main__ - INFO -   Class 9: 1316 (6.0%)\n"
     ]
    }
   ],
   "source": [
    "def split_data(X: pd.DataFrame, Y: np.ndarray, test_size: float = 0.15) -> Tuple:\n",
    "    \"\"\"Split data with proper stratification\"\"\"\n",
    "    logger.info(\"Splitting data into train/test sets\")\n",
    "\n",
    "    unique_labels = np.unique(np.argmax(Y, axis=1))\n",
    "    logger.info(f\"Number of unique classes: {len(unique_labels)}\")\n",
    "    X_train, X_test, Y_train, Y_test = train_test_split(\n",
    "        X, Y, \n",
    "        test_size=test_size, \n",
    "        random_state=67, \n",
    "        stratify=np.argmax(Y, axis=1)\n",
    "    )\n",
    "    logger.info(f\"Training set shape: {X_train.shape}\")\n",
    "    logger.info(f\"Test set shape: {X_test.shape}\")\n",
    "    train_labels = np.argmax(Y_train, axis=1)\n",
    "    test_labels = np.argmax(Y_test, axis=1)\n",
    "    logger.info(\"Class distribution in training set:\")\n",
    "    for i in range(Y_train.shape[1]):\n",
    "        count = np.sum(train_labels == i)\n",
    "        logger.info(f\"  Class {i}: {count} ({count/len(train_labels)*100:.1f}%)\")\n",
    "    \n",
    "    return X_train, X_test, Y_train, Y_test\n",
    "\n",
    "X_train, X_test, Y_train, Y_test = split_data(feature_matrix, Y, Config.TEST_SIZE)"
   ]
  },
  {
   "cell_type": "code",
   "execution_count": null,
   "metadata": {},
   "outputs": [
    {
     "name": "stderr",
     "output_type": "stream",
     "text": [
      "2025-08-04 14:51:42,192 - __main__ - INFO - Separating embedding and metadata features\n",
      "2025-08-04 14:51:42,193 - __main__ - INFO - Sequence columns: 250\n",
      "2025-08-04 14:51:42,194 - __main__ - INFO - Metadata columns: 8\n"
     ]
    }
   ],
   "source": [
    "def separate_features(X_train: pd.DataFrame, X_test: pd.DataFrame) -> Tuple:\n",
    "    \"\"\"Separate embedding and metadata features\"\"\"\n",
    "    logger.info(\"Separating embedding and metadata features\")\n",
    "\n",
    "    sequence_cols = [col for col in X_train.columns if col.startswith('seq_')]\n",
    "    metadata_cols = [col for col in X_train.columns if not col.startswith('seq_')]\n",
    "    \n",
    "    logger.info(f\"Sequence columns: {len(sequence_cols)}\")\n",
    "    logger.info(f\"Metadata columns: {len(metadata_cols)}\")\n",
    "\n",
    "    X_train_emb = X_train[sequence_cols]\n",
    "    X_train_meta = X_train[metadata_cols]\n",
    "    X_test_emb = X_test[sequence_cols]\n",
    "    X_test_meta = X_test[metadata_cols]\n",
    "    \n",
    "    return X_train_emb, X_train_meta, X_test_emb, X_test_meta\n",
    "\n",
    "X_train_emb, X_train_meta, X_test_emb, X_test_meta = separate_features(X_train, X_test)"
   ]
  },
  {
   "cell_type": "code",
   "execution_count": 15,
   "metadata": {},
   "outputs": [
    {
     "name": "stderr",
     "output_type": "stream",
     "text": [
      "2025-08-04 18:06:29,693 - __main__ - INFO - Creating basic LSTM model\n",
      "2025-08-04 18:06:29,765 - __main__ - INFO - Basic LSTM model created\n"
     ]
    },
    {
     "data": {
      "text/html": [
       "<pre style=\"white-space:pre;overflow-x:auto;line-height:normal;font-family:Menlo,'DejaVu Sans Mono',consolas,'Courier New',monospace\"><span style=\"font-weight: bold\">Model: \"sequential\"</span>\n",
       "</pre>\n"
      ],
      "text/plain": [
       "\u001b[1mModel: \"sequential\"\u001b[0m\n"
      ]
     },
     "metadata": {},
     "output_type": "display_data"
    },
    {
     "data": {
      "text/html": [
       "<pre style=\"white-space:pre;overflow-x:auto;line-height:normal;font-family:Menlo,'DejaVu Sans Mono',consolas,'Courier New',monospace\">┏━━━━━━━━━━━━━━━━━━━━━━━━━━━━━━━━━┳━━━━━━━━━━━━━━━━━━━━━━━━┳━━━━━━━━━━━━━━━┓\n",
       "┃<span style=\"font-weight: bold\"> Layer (type)                    </span>┃<span style=\"font-weight: bold\"> Output Shape           </span>┃<span style=\"font-weight: bold\">       Param # </span>┃\n",
       "┡━━━━━━━━━━━━━━━━━━━━━━━━━━━━━━━━━╇━━━━━━━━━━━━━━━━━━━━━━━━╇━━━━━━━━━━━━━━━┩\n",
       "│ embedding (<span style=\"color: #0087ff; text-decoration-color: #0087ff\">Embedding</span>)           │ (<span style=\"color: #00d7ff; text-decoration-color: #00d7ff\">None</span>, <span style=\"color: #00af00; text-decoration-color: #00af00\">250</span>, <span style=\"color: #00af00; text-decoration-color: #00af00\">100</span>)       │     <span style=\"color: #00af00; text-decoration-color: #00af00\">5,000,000</span> │\n",
       "├─────────────────────────────────┼────────────────────────┼───────────────┤\n",
       "│ bidirectional (<span style=\"color: #0087ff; text-decoration-color: #0087ff\">Bidirectional</span>)   │ (<span style=\"color: #00d7ff; text-decoration-color: #00d7ff\">None</span>, <span style=\"color: #00af00; text-decoration-color: #00af00\">200</span>)            │       <span style=\"color: #00af00; text-decoration-color: #00af00\">160,800</span> │\n",
       "├─────────────────────────────────┼────────────────────────┼───────────────┤\n",
       "│ dense (<span style=\"color: #0087ff; text-decoration-color: #0087ff\">Dense</span>)                   │ (<span style=\"color: #00d7ff; text-decoration-color: #00d7ff\">None</span>, <span style=\"color: #00af00; text-decoration-color: #00af00\">100</span>)            │        <span style=\"color: #00af00; text-decoration-color: #00af00\">20,100</span> │\n",
       "├─────────────────────────────────┼────────────────────────┼───────────────┤\n",
       "│ dropout (<span style=\"color: #0087ff; text-decoration-color: #0087ff\">Dropout</span>)               │ (<span style=\"color: #00d7ff; text-decoration-color: #00d7ff\">None</span>, <span style=\"color: #00af00; text-decoration-color: #00af00\">100</span>)            │             <span style=\"color: #00af00; text-decoration-color: #00af00\">0</span> │\n",
       "├─────────────────────────────────┼────────────────────────┼───────────────┤\n",
       "│ dense_1 (<span style=\"color: #0087ff; text-decoration-color: #0087ff\">Dense</span>)                 │ (<span style=\"color: #00d7ff; text-decoration-color: #00d7ff\">None</span>, <span style=\"color: #00af00; text-decoration-color: #00af00\">10</span>)             │         <span style=\"color: #00af00; text-decoration-color: #00af00\">1,010</span> │\n",
       "└─────────────────────────────────┴────────────────────────┴───────────────┘\n",
       "</pre>\n"
      ],
      "text/plain": [
       "┏━━━━━━━━━━━━━━━━━━━━━━━━━━━━━━━━━┳━━━━━━━━━━━━━━━━━━━━━━━━┳━━━━━━━━━━━━━━━┓\n",
       "┃\u001b[1m \u001b[0m\u001b[1mLayer (type)                   \u001b[0m\u001b[1m \u001b[0m┃\u001b[1m \u001b[0m\u001b[1mOutput Shape          \u001b[0m\u001b[1m \u001b[0m┃\u001b[1m \u001b[0m\u001b[1m      Param #\u001b[0m\u001b[1m \u001b[0m┃\n",
       "┡━━━━━━━━━━━━━━━━━━━━━━━━━━━━━━━━━╇━━━━━━━━━━━━━━━━━━━━━━━━╇━━━━━━━━━━━━━━━┩\n",
       "│ embedding (\u001b[38;5;33mEmbedding\u001b[0m)           │ (\u001b[38;5;45mNone\u001b[0m, \u001b[38;5;34m250\u001b[0m, \u001b[38;5;34m100\u001b[0m)       │     \u001b[38;5;34m5,000,000\u001b[0m │\n",
       "├─────────────────────────────────┼────────────────────────┼───────────────┤\n",
       "│ bidirectional (\u001b[38;5;33mBidirectional\u001b[0m)   │ (\u001b[38;5;45mNone\u001b[0m, \u001b[38;5;34m200\u001b[0m)            │       \u001b[38;5;34m160,800\u001b[0m │\n",
       "├─────────────────────────────────┼────────────────────────┼───────────────┤\n",
       "│ dense (\u001b[38;5;33mDense\u001b[0m)                   │ (\u001b[38;5;45mNone\u001b[0m, \u001b[38;5;34m100\u001b[0m)            │        \u001b[38;5;34m20,100\u001b[0m │\n",
       "├─────────────────────────────────┼────────────────────────┼───────────────┤\n",
       "│ dropout (\u001b[38;5;33mDropout\u001b[0m)               │ (\u001b[38;5;45mNone\u001b[0m, \u001b[38;5;34m100\u001b[0m)            │             \u001b[38;5;34m0\u001b[0m │\n",
       "├─────────────────────────────────┼────────────────────────┼───────────────┤\n",
       "│ dense_1 (\u001b[38;5;33mDense\u001b[0m)                 │ (\u001b[38;5;45mNone\u001b[0m, \u001b[38;5;34m10\u001b[0m)             │         \u001b[38;5;34m1,010\u001b[0m │\n",
       "└─────────────────────────────────┴────────────────────────┴───────────────┘\n"
      ]
     },
     "metadata": {},
     "output_type": "display_data"
    },
    {
     "data": {
      "text/html": [
       "<pre style=\"white-space:pre;overflow-x:auto;line-height:normal;font-family:Menlo,'DejaVu Sans Mono',consolas,'Courier New',monospace\"><span style=\"font-weight: bold\"> Total params: </span><span style=\"color: #00af00; text-decoration-color: #00af00\">5,181,910</span> (19.77 MB)\n",
       "</pre>\n"
      ],
      "text/plain": [
       "\u001b[1m Total params: \u001b[0m\u001b[38;5;34m5,181,910\u001b[0m (19.77 MB)\n"
      ]
     },
     "metadata": {},
     "output_type": "display_data"
    },
    {
     "data": {
      "text/html": [
       "<pre style=\"white-space:pre;overflow-x:auto;line-height:normal;font-family:Menlo,'DejaVu Sans Mono',consolas,'Courier New',monospace\"><span style=\"font-weight: bold\"> Trainable params: </span><span style=\"color: #00af00; text-decoration-color: #00af00\">5,181,910</span> (19.77 MB)\n",
       "</pre>\n"
      ],
      "text/plain": [
       "\u001b[1m Trainable params: \u001b[0m\u001b[38;5;34m5,181,910\u001b[0m (19.77 MB)\n"
      ]
     },
     "metadata": {},
     "output_type": "display_data"
    },
    {
     "data": {
      "text/html": [
       "<pre style=\"white-space:pre;overflow-x:auto;line-height:normal;font-family:Menlo,'DejaVu Sans Mono',consolas,'Courier New',monospace\"><span style=\"font-weight: bold\"> Non-trainable params: </span><span style=\"color: #00af00; text-decoration-color: #00af00\">0</span> (0.00 B)\n",
       "</pre>\n"
      ],
      "text/plain": [
       "\u001b[1m Non-trainable params: \u001b[0m\u001b[38;5;34m0\u001b[0m (0.00 B)\n"
      ]
     },
     "metadata": {},
     "output_type": "display_data"
    }
   ],
   "source": [
    "def create_basic_lstm_model() -> tf.keras.Model:\n",
    "    logger.info(\"Creating basic LSTM model\")\n",
    "    \n",
    "    model = tf.keras.Sequential([\n",
    "        tf.keras.layers.Embedding(Config.MAX_WORDS, Config.EMBEDDING_DIM),\n",
    "        tf.keras.layers.Bidirectional(tf.keras.layers.LSTM(Config.EMBEDDING_DIM)),\n",
    "        tf.keras.layers.Dense(Config.EMBEDDING_DIM, activation='relu'),\n",
    "        tf.keras.layers.Dropout(Config.DROPOUT_RATE),\n",
    "        tf.keras.layers.Dense(Y_train.shape[1], activation='softmax')\n",
    "    ])\n",
    "    \n",
    "    model.build(input_shape=(None, Config.MAX_LENGTH))\n",
    "\n",
    "    model.compile(\n",
    "        loss='categorical_crossentropy',\n",
    "        optimizer=Adam(learning_rate=Config.LEARNING_RATE),\n",
    "        metrics=['accuracy', Precision(), Recall()]\n",
    "    )\n",
    "    \n",
    "    logger.info(\"Basic LSTM model created\")\n",
    "    return model\n",
    "\n",
    "basic_model = create_basic_lstm_model()\n",
    "basic_model.summary()"
   ]
  },
  {
   "cell_type": "code",
   "execution_count": null,
   "metadata": {},
   "outputs": [
    {
     "name": "stderr",
     "output_type": "stream",
     "text": [
      "2025-08-04 14:54:13,457 - __main__ - INFO - Creating advanced LSTM model\n",
      "2025-08-04 14:54:13,508 - __main__ - INFO - Advanced LSTM model created\n"
     ]
    },
    {
     "data": {
      "text/html": [
       "<pre style=\"white-space:pre;overflow-x:auto;line-height:normal;font-family:Menlo,'DejaVu Sans Mono',consolas,'Courier New',monospace\"><span style=\"font-weight: bold\">Model: \"sequential_23\"</span>\n",
       "</pre>\n"
      ],
      "text/plain": [
       "\u001b[1mModel: \"sequential_23\"\u001b[0m\n"
      ]
     },
     "metadata": {},
     "output_type": "display_data"
    },
    {
     "data": {
      "text/html": [
       "<pre style=\"white-space:pre;overflow-x:auto;line-height:normal;font-family:Menlo,'DejaVu Sans Mono',consolas,'Courier New',monospace\">┏━━━━━━━━━━━━━━━━━━━━━━━━━━━━━━━━━┳━━━━━━━━━━━━━━━━━━━━━━━━┳━━━━━━━━━━━━━━━┓\n",
       "┃<span style=\"font-weight: bold\"> Layer (type)                    </span>┃<span style=\"font-weight: bold\"> Output Shape           </span>┃<span style=\"font-weight: bold\">       Param # </span>┃\n",
       "┡━━━━━━━━━━━━━━━━━━━━━━━━━━━━━━━━━╇━━━━━━━━━━━━━━━━━━━━━━━━╇━━━━━━━━━━━━━━━┩\n",
       "│ embedding_34 (<span style=\"color: #0087ff; text-decoration-color: #0087ff\">Embedding</span>)        │ (<span style=\"color: #00d7ff; text-decoration-color: #00d7ff\">None</span>, <span style=\"color: #00af00; text-decoration-color: #00af00\">250</span>, <span style=\"color: #00af00; text-decoration-color: #00af00\">100</span>)       │     <span style=\"color: #00af00; text-decoration-color: #00af00\">5,000,000</span> │\n",
       "├─────────────────────────────────┼────────────────────────┼───────────────┤\n",
       "│ spatial_dropout1d_6             │ (<span style=\"color: #00d7ff; text-decoration-color: #00d7ff\">None</span>, <span style=\"color: #00af00; text-decoration-color: #00af00\">250</span>, <span style=\"color: #00af00; text-decoration-color: #00af00\">100</span>)       │             <span style=\"color: #00af00; text-decoration-color: #00af00\">0</span> │\n",
       "│ (<span style=\"color: #0087ff; text-decoration-color: #0087ff\">SpatialDropout1D</span>)              │                        │               │\n",
       "├─────────────────────────────────┼────────────────────────┼───────────────┤\n",
       "│ bidirectional_25                │ (<span style=\"color: #00d7ff; text-decoration-color: #00d7ff\">None</span>, <span style=\"color: #00af00; text-decoration-color: #00af00\">250</span>, <span style=\"color: #00af00; text-decoration-color: #00af00\">256</span>)       │       <span style=\"color: #00af00; text-decoration-color: #00af00\">234,496</span> │\n",
       "│ (<span style=\"color: #0087ff; text-decoration-color: #0087ff\">Bidirectional</span>)                 │                        │               │\n",
       "├─────────────────────────────────┼────────────────────────┼───────────────┤\n",
       "│ bidirectional_26                │ (<span style=\"color: #00d7ff; text-decoration-color: #00d7ff\">None</span>, <span style=\"color: #00af00; text-decoration-color: #00af00\">128</span>)            │       <span style=\"color: #00af00; text-decoration-color: #00af00\">164,352</span> │\n",
       "│ (<span style=\"color: #0087ff; text-decoration-color: #0087ff\">Bidirectional</span>)                 │                        │               │\n",
       "├─────────────────────────────────┼────────────────────────┼───────────────┤\n",
       "│ dense_53 (<span style=\"color: #0087ff; text-decoration-color: #0087ff\">Dense</span>)                │ (<span style=\"color: #00d7ff; text-decoration-color: #00d7ff\">None</span>, <span style=\"color: #00af00; text-decoration-color: #00af00\">64</span>)             │         <span style=\"color: #00af00; text-decoration-color: #00af00\">8,256</span> │\n",
       "├─────────────────────────────────┼────────────────────────┼───────────────┤\n",
       "│ batch_normalization_3           │ (<span style=\"color: #00d7ff; text-decoration-color: #00d7ff\">None</span>, <span style=\"color: #00af00; text-decoration-color: #00af00\">64</span>)             │           <span style=\"color: #00af00; text-decoration-color: #00af00\">256</span> │\n",
       "│ (<span style=\"color: #0087ff; text-decoration-color: #0087ff\">BatchNormalization</span>)            │                        │               │\n",
       "├─────────────────────────────────┼────────────────────────┼───────────────┤\n",
       "│ dropout_5 (<span style=\"color: #0087ff; text-decoration-color: #0087ff\">Dropout</span>)             │ (<span style=\"color: #00d7ff; text-decoration-color: #00d7ff\">None</span>, <span style=\"color: #00af00; text-decoration-color: #00af00\">64</span>)             │             <span style=\"color: #00af00; text-decoration-color: #00af00\">0</span> │\n",
       "├─────────────────────────────────┼────────────────────────┼───────────────┤\n",
       "│ dense_54 (<span style=\"color: #0087ff; text-decoration-color: #0087ff\">Dense</span>)                │ (<span style=\"color: #00d7ff; text-decoration-color: #00d7ff\">None</span>, <span style=\"color: #00af00; text-decoration-color: #00af00\">10</span>)             │           <span style=\"color: #00af00; text-decoration-color: #00af00\">650</span> │\n",
       "└─────────────────────────────────┴────────────────────────┴───────────────┘\n",
       "</pre>\n"
      ],
      "text/plain": [
       "┏━━━━━━━━━━━━━━━━━━━━━━━━━━━━━━━━━┳━━━━━━━━━━━━━━━━━━━━━━━━┳━━━━━━━━━━━━━━━┓\n",
       "┃\u001b[1m \u001b[0m\u001b[1mLayer (type)                   \u001b[0m\u001b[1m \u001b[0m┃\u001b[1m \u001b[0m\u001b[1mOutput Shape          \u001b[0m\u001b[1m \u001b[0m┃\u001b[1m \u001b[0m\u001b[1m      Param #\u001b[0m\u001b[1m \u001b[0m┃\n",
       "┡━━━━━━━━━━━━━━━━━━━━━━━━━━━━━━━━━╇━━━━━━━━━━━━━━━━━━━━━━━━╇━━━━━━━━━━━━━━━┩\n",
       "│ embedding_34 (\u001b[38;5;33mEmbedding\u001b[0m)        │ (\u001b[38;5;45mNone\u001b[0m, \u001b[38;5;34m250\u001b[0m, \u001b[38;5;34m100\u001b[0m)       │     \u001b[38;5;34m5,000,000\u001b[0m │\n",
       "├─────────────────────────────────┼────────────────────────┼───────────────┤\n",
       "│ spatial_dropout1d_6             │ (\u001b[38;5;45mNone\u001b[0m, \u001b[38;5;34m250\u001b[0m, \u001b[38;5;34m100\u001b[0m)       │             \u001b[38;5;34m0\u001b[0m │\n",
       "│ (\u001b[38;5;33mSpatialDropout1D\u001b[0m)              │                        │               │\n",
       "├─────────────────────────────────┼────────────────────────┼───────────────┤\n",
       "│ bidirectional_25                │ (\u001b[38;5;45mNone\u001b[0m, \u001b[38;5;34m250\u001b[0m, \u001b[38;5;34m256\u001b[0m)       │       \u001b[38;5;34m234,496\u001b[0m │\n",
       "│ (\u001b[38;5;33mBidirectional\u001b[0m)                 │                        │               │\n",
       "├─────────────────────────────────┼────────────────────────┼───────────────┤\n",
       "│ bidirectional_26                │ (\u001b[38;5;45mNone\u001b[0m, \u001b[38;5;34m128\u001b[0m)            │       \u001b[38;5;34m164,352\u001b[0m │\n",
       "│ (\u001b[38;5;33mBidirectional\u001b[0m)                 │                        │               │\n",
       "├─────────────────────────────────┼────────────────────────┼───────────────┤\n",
       "│ dense_53 (\u001b[38;5;33mDense\u001b[0m)                │ (\u001b[38;5;45mNone\u001b[0m, \u001b[38;5;34m64\u001b[0m)             │         \u001b[38;5;34m8,256\u001b[0m │\n",
       "├─────────────────────────────────┼────────────────────────┼───────────────┤\n",
       "│ batch_normalization_3           │ (\u001b[38;5;45mNone\u001b[0m, \u001b[38;5;34m64\u001b[0m)             │           \u001b[38;5;34m256\u001b[0m │\n",
       "│ (\u001b[38;5;33mBatchNormalization\u001b[0m)            │                        │               │\n",
       "├─────────────────────────────────┼────────────────────────┼───────────────┤\n",
       "│ dropout_5 (\u001b[38;5;33mDropout\u001b[0m)             │ (\u001b[38;5;45mNone\u001b[0m, \u001b[38;5;34m64\u001b[0m)             │             \u001b[38;5;34m0\u001b[0m │\n",
       "├─────────────────────────────────┼────────────────────────┼───────────────┤\n",
       "│ dense_54 (\u001b[38;5;33mDense\u001b[0m)                │ (\u001b[38;5;45mNone\u001b[0m, \u001b[38;5;34m10\u001b[0m)             │           \u001b[38;5;34m650\u001b[0m │\n",
       "└─────────────────────────────────┴────────────────────────┴───────────────┘\n"
      ]
     },
     "metadata": {},
     "output_type": "display_data"
    },
    {
     "data": {
      "text/html": [
       "<pre style=\"white-space:pre;overflow-x:auto;line-height:normal;font-family:Menlo,'DejaVu Sans Mono',consolas,'Courier New',monospace\"><span style=\"font-weight: bold\"> Total params: </span><span style=\"color: #00af00; text-decoration-color: #00af00\">5,408,010</span> (20.63 MB)\n",
       "</pre>\n"
      ],
      "text/plain": [
       "\u001b[1m Total params: \u001b[0m\u001b[38;5;34m5,408,010\u001b[0m (20.63 MB)\n"
      ]
     },
     "metadata": {},
     "output_type": "display_data"
    },
    {
     "data": {
      "text/html": [
       "<pre style=\"white-space:pre;overflow-x:auto;line-height:normal;font-family:Menlo,'DejaVu Sans Mono',consolas,'Courier New',monospace\"><span style=\"font-weight: bold\"> Trainable params: </span><span style=\"color: #00af00; text-decoration-color: #00af00\">5,407,882</span> (20.63 MB)\n",
       "</pre>\n"
      ],
      "text/plain": [
       "\u001b[1m Trainable params: \u001b[0m\u001b[38;5;34m5,407,882\u001b[0m (20.63 MB)\n"
      ]
     },
     "metadata": {},
     "output_type": "display_data"
    },
    {
     "data": {
      "text/html": [
       "<pre style=\"white-space:pre;overflow-x:auto;line-height:normal;font-family:Menlo,'DejaVu Sans Mono',consolas,'Courier New',monospace\"><span style=\"font-weight: bold\"> Non-trainable params: </span><span style=\"color: #00af00; text-decoration-color: #00af00\">128</span> (512.00 B)\n",
       "</pre>\n"
      ],
      "text/plain": [
       "\u001b[1m Non-trainable params: \u001b[0m\u001b[38;5;34m128\u001b[0m (512.00 B)\n"
      ]
     },
     "metadata": {},
     "output_type": "display_data"
    }
   ],
   "source": [
    "def create_advanced_lstm_model() -> tf.keras.Model:\n",
    "\n",
    "    logger.info(\"Creating advanced LSTM model\")\n",
    "    \n",
    "    model = tf.keras.Sequential([\n",
    "        tf.keras.layers.Embedding(\n",
    "            Config.MAX_WORDS, \n",
    "            Config.EMBEDDING_DIM,\n",
    "            input_shape=(Config.MAX_LENGTH,)  # Add this line\n",
    "        ),\n",
    "        tf.keras.layers.SpatialDropout1D(0.2),\n",
    "        tf.keras.layers.Bidirectional(\n",
    "            tf.keras.layers.LSTM(\n",
    "                128, \n",
    "                dropout=Config.DROPOUT_RATE, \n",
    "                recurrent_dropout=Config.RECURRENT_DROPOUT_RATE,\n",
    "                return_sequences=True\n",
    "            )\n",
    "        ),\n",
    "        tf.keras.layers.Bidirectional(\n",
    "            tf.keras.layers.LSTM(\n",
    "                64, \n",
    "                dropout=Config.DROPOUT_RATE, \n",
    "                recurrent_dropout=Config.RECURRENT_DROPOUT_RATE\n",
    "            )\n",
    "        ),\n",
    "        tf.keras.layers.Dense(\n",
    "            64, \n",
    "            activation='relu',\n",
    "            kernel_regularizer=regularizers.l2(Config.L2_REGULARIZATION)\n",
    "        ),\n",
    "        tf.keras.layers.BatchNormalization(),\n",
    "        tf.keras.layers.Dropout(Config.DROPOUT_RATE),\n",
    "\n",
    "        tf.keras.layers.Dense(Y_train.shape[1], activation='softmax')\n",
    "    ])\n",
    "    model.compile(\n",
    "        loss='categorical_crossentropy',\n",
    "        optimizer=Adam(learning_rate=Config.LEARNING_RATE),\n",
    "        metrics=['accuracy']\n",
    "    )\n",
    "    \n",
    "    logger.info(\"Advanced LSTM model created\")\n",
    "    return model\n",
    "advanced_model = create_advanced_lstm_model()\n",
    "advanced_model.summary()"
   ]
  },
  {
   "cell_type": "code",
   "execution_count": null,
   "metadata": {},
   "outputs": [
    {
     "name": "stderr",
     "output_type": "stream",
     "text": [
      "2025-08-04 14:55:00,966 - __main__ - INFO - Training advanced_lstm\n",
      "2025-08-04 14:55:00,970 - __main__ - INFO - Class weights: {0: 1.222999222999223, 1: 0.2929111669391607, 2: 1.05993265993266, 3: 0.8531165311653116, 4: 4.380043728880938, 5: 0.8507451162072427, 6: 1.6510077170899828, 7: 9.453453453453454, 8: 1.8605200945626477}\n"
     ]
    },
    {
     "name": "stdout",
     "output_type": "stream",
     "text": [
      "Epoch 1/50\n",
      "\u001b[1m293/293\u001b[0m \u001b[32m━━━━━━━━━━━━━━━━━━━━\u001b[0m\u001b[37m\u001b[0m \u001b[1m0s\u001b[0m 232ms/step - accuracy: 0.1733 - loss: 5.1895\n",
      "Epoch 1: val_accuracy improved from -inf to 0.37235, saving model to siftmail/Models//advanced_lstm_best.keras\n",
      "\u001b[1m293/293\u001b[0m \u001b[32m━━━━━━━━━━━━━━━━━━━━\u001b[0m\u001b[37m\u001b[0m \u001b[1m75s\u001b[0m 248ms/step - accuracy: 0.1735 - loss: 5.1868 - val_accuracy: 0.3724 - val_loss: 2.3153 - learning_rate: 0.0010\n",
      "Epoch 2/50\n",
      "\u001b[1m293/293\u001b[0m \u001b[32m━━━━━━━━━━━━━━━━━━━━\u001b[0m\u001b[37m\u001b[0m \u001b[1m0s\u001b[0m 231ms/step - accuracy: 0.3800 - loss: 3.2025\n",
      "Epoch 2: val_accuracy improved from 0.37235 to 0.47489, saving model to siftmail/Models//advanced_lstm_best.keras\n",
      "\u001b[1m293/293\u001b[0m \u001b[32m━━━━━━━━━━━━━━━━━━━━\u001b[0m\u001b[37m\u001b[0m \u001b[1m72s\u001b[0m 245ms/step - accuracy: 0.3802 - loss: 3.2016 - val_accuracy: 0.4749 - val_loss: 1.7290 - learning_rate: 0.0010\n",
      "Epoch 3/50\n",
      "\u001b[1m293/293\u001b[0m \u001b[32m━━━━━━━━━━━━━━━━━━━━\u001b[0m\u001b[37m\u001b[0m \u001b[1m0s\u001b[0m 231ms/step - accuracy: 0.5070 - loss: 2.3795\n",
      "Epoch 3: val_accuracy improved from 0.47489 to 0.51724, saving model to siftmail/Models//advanced_lstm_best.keras\n",
      "\u001b[1m293/293\u001b[0m \u001b[32m━━━━━━━━━━━━━━━━━━━━\u001b[0m\u001b[37m\u001b[0m \u001b[1m72s\u001b[0m 245ms/step - accuracy: 0.5071 - loss: 2.3790 - val_accuracy: 0.5172 - val_loss: 1.6341 - learning_rate: 0.0010\n",
      "Epoch 4/50\n",
      "\u001b[1m293/293\u001b[0m \u001b[32m━━━━━━━━━━━━━━━━━━━━\u001b[0m\u001b[37m\u001b[0m \u001b[1m0s\u001b[0m 229ms/step - accuracy: 0.5943 - loss: 1.8990\n",
      "Epoch 4: val_accuracy did not improve from 0.51724\n",
      "\u001b[1m293/293\u001b[0m \u001b[32m━━━━━━━━━━━━━━━━━━━━\u001b[0m\u001b[37m\u001b[0m \u001b[1m71s\u001b[0m 244ms/step - accuracy: 0.5944 - loss: 1.8985 - val_accuracy: 0.4909 - val_loss: 1.7454 - learning_rate: 0.0010\n",
      "Epoch 5/50\n",
      "\u001b[1m293/293\u001b[0m \u001b[32m━━━━━━━━━━━━━━━━━━━━\u001b[0m\u001b[37m\u001b[0m \u001b[1m0s\u001b[0m 230ms/step - accuracy: 0.6670 - loss: 1.5081\n",
      "Epoch 5: val_accuracy improved from 0.51724 to 0.55354, saving model to siftmail/Models//advanced_lstm_best.keras\n",
      "\u001b[1m293/293\u001b[0m \u001b[32m━━━━━━━━━━━━━━━━━━━━\u001b[0m\u001b[37m\u001b[0m \u001b[1m72s\u001b[0m 244ms/step - accuracy: 0.6670 - loss: 1.5078 - val_accuracy: 0.5535 - val_loss: 1.6654 - learning_rate: 0.0010\n",
      "Epoch 6/50\n",
      "\u001b[1m293/293\u001b[0m \u001b[32m━━━━━━━━━━━━━━━━━━━━\u001b[0m\u001b[37m\u001b[0m \u001b[1m0s\u001b[0m 237ms/step - accuracy: 0.7156 - loss: 1.2795\n",
      "Epoch 6: val_accuracy improved from 0.55354 to 0.56806, saving model to siftmail/Models//advanced_lstm_best.keras\n",
      "\u001b[1m293/293\u001b[0m \u001b[32m━━━━━━━━━━━━━━━━━━━━\u001b[0m\u001b[37m\u001b[0m \u001b[1m74s\u001b[0m 251ms/step - accuracy: 0.7157 - loss: 1.2792 - val_accuracy: 0.5681 - val_loss: 1.6278 - learning_rate: 0.0010\n",
      "Epoch 7/50\n",
      "\u001b[1m293/293\u001b[0m \u001b[32m━━━━━━━━━━━━━━━━━━━━\u001b[0m\u001b[37m\u001b[0m \u001b[1m0s\u001b[0m 228ms/step - accuracy: 0.7622 - loss: 1.0462\n",
      "Epoch 7: val_accuracy improved from 0.56806 to 0.57864, saving model to siftmail/Models//advanced_lstm_best.keras\n",
      "\u001b[1m293/293\u001b[0m \u001b[32m━━━━━━━━━━━━━━━━━━━━\u001b[0m\u001b[37m\u001b[0m \u001b[1m71s\u001b[0m 242ms/step - accuracy: 0.7622 - loss: 1.0461 - val_accuracy: 0.5786 - val_loss: 1.6677 - learning_rate: 0.0010\n",
      "Epoch 8/50\n",
      "\u001b[1m293/293\u001b[0m \u001b[32m━━━━━━━━━━━━━━━━━━━━\u001b[0m\u001b[37m\u001b[0m \u001b[1m0s\u001b[0m 228ms/step - accuracy: 0.7878 - loss: 0.9275\n",
      "Epoch 8: val_accuracy improved from 0.57864 to 0.58439, saving model to siftmail/Models//advanced_lstm_best.keras\n",
      "\u001b[1m293/293\u001b[0m \u001b[32m━━━━━━━━━━━━━━━━━━━━\u001b[0m\u001b[37m\u001b[0m \u001b[1m71s\u001b[0m 243ms/step - accuracy: 0.7879 - loss: 0.9273 - val_accuracy: 0.5844 - val_loss: 1.6760 - learning_rate: 0.0010\n",
      "Epoch 9/50\n",
      "\u001b[1m293/293\u001b[0m \u001b[32m━━━━━━━━━━━━━━━━━━━━\u001b[0m\u001b[37m\u001b[0m \u001b[1m0s\u001b[0m 228ms/step - accuracy: 0.8211 - loss: 0.7730\n",
      "Epoch 9: val_accuracy did not improve from 0.58439\n",
      "\u001b[1m293/293\u001b[0m \u001b[32m━━━━━━━━━━━━━━━━━━━━\u001b[0m\u001b[37m\u001b[0m \u001b[1m71s\u001b[0m 243ms/step - accuracy: 0.8211 - loss: 0.7729 - val_accuracy: 0.5802 - val_loss: 1.7740 - learning_rate: 0.0010\n",
      "Epoch 10/50\n",
      "\u001b[1m293/293\u001b[0m \u001b[32m━━━━━━━━━━━━━━━━━━━━\u001b[0m\u001b[37m\u001b[0m \u001b[1m0s\u001b[0m 229ms/step - accuracy: 0.8518 - loss: 0.6781\n",
      "Epoch 10: val_accuracy improved from 0.58439 to 0.59195, saving model to siftmail/Models//advanced_lstm_best.keras\n",
      "\u001b[1m293/293\u001b[0m \u001b[32m━━━━━━━━━━━━━━━━━━━━\u001b[0m\u001b[37m\u001b[0m \u001b[1m71s\u001b[0m 243ms/step - accuracy: 0.8518 - loss: 0.6780 - val_accuracy: 0.5920 - val_loss: 1.8013 - learning_rate: 0.0010\n",
      "Epoch 11/50\n",
      "\u001b[1m293/293\u001b[0m \u001b[32m━━━━━━━━━━━━━━━━━━━━\u001b[0m\u001b[37m\u001b[0m \u001b[1m0s\u001b[0m 229ms/step - accuracy: 0.8606 - loss: 0.6377\n",
      "Epoch 11: val_accuracy improved from 0.59195 to 0.59952, saving model to siftmail/Models//advanced_lstm_best.keras\n",
      "\n",
      "Epoch 11: ReduceLROnPlateau reducing learning rate to 0.0005000000237487257.\n",
      "\u001b[1m293/293\u001b[0m \u001b[32m━━━━━━━━━━━━━━━━━━━━\u001b[0m\u001b[37m\u001b[0m \u001b[1m71s\u001b[0m 244ms/step - accuracy: 0.8606 - loss: 0.6376 - val_accuracy: 0.5995 - val_loss: 1.8344 - learning_rate: 0.0010\n",
      "Epoch 12/50\n",
      "\u001b[1m293/293\u001b[0m \u001b[32m━━━━━━━━━━━━━━━━━━━━\u001b[0m\u001b[37m\u001b[0m \u001b[1m0s\u001b[0m 230ms/step - accuracy: 0.8909 - loss: 0.4770\n",
      "Epoch 12: val_accuracy improved from 0.59952 to 0.60284, saving model to siftmail/Models//advanced_lstm_best.keras\n",
      "\u001b[1m293/293\u001b[0m \u001b[32m━━━━━━━━━━━━━━━━━━━━\u001b[0m\u001b[37m\u001b[0m \u001b[1m71s\u001b[0m 244ms/step - accuracy: 0.8909 - loss: 0.4768 - val_accuracy: 0.6028 - val_loss: 1.8347 - learning_rate: 5.0000e-04\n",
      "Epoch 13/50\n",
      "\u001b[1m293/293\u001b[0m \u001b[32m━━━━━━━━━━━━━━━━━━━━\u001b[0m\u001b[37m\u001b[0m \u001b[1m0s\u001b[0m 229ms/step - accuracy: 0.9154 - loss: 0.3875\n",
      "Epoch 13: val_accuracy improved from 0.60284 to 0.60375, saving model to siftmail/Models//advanced_lstm_best.keras\n",
      "\u001b[1m293/293\u001b[0m \u001b[32m━━━━━━━━━━━━━━━━━━━━\u001b[0m\u001b[37m\u001b[0m \u001b[1m72s\u001b[0m 247ms/step - accuracy: 0.9154 - loss: 0.3874 - val_accuracy: 0.6038 - val_loss: 1.8753 - learning_rate: 5.0000e-04\n",
      "Epoch 13: early stopping\n",
      "Restoring model weights from the end of the best epoch: 6.\n"
     ]
    },
    {
     "name": "stderr",
     "output_type": "stream",
     "text": [
      "2025-08-04 15:10:35,489 - __main__ - INFO - Training completed for advanced_lstm\n"
     ]
    }
   ],
   "source": [
    "def create_callbacks(model_name: str) -> List:\n",
    "    callbacks = [\n",
    "        EarlyStopping(\n",
    "            monitor='val_loss',\n",
    "            patience=Config.EARLY_STOPPING_PATIENCE,\n",
    "            min_delta=Config.EARLY_STOPPING_MIN_DELTA,\n",
    "            restore_best_weights=True,\n",
    "            verbose=1\n",
    "        ),\n",
    "\n",
    "        ModelCheckpoint(\n",
    "            filepath=f\"{Config.MODEL_SAVE_PATH}/{model_name}_best.keras\",\n",
    "            monitor='val_accuracy',\n",
    "            save_best_only=True,\n",
    "            verbose=1\n",
    "        ),\n",
    "\n",
    "        ReduceLROnPlateau(\n",
    "            monitor='val_loss',\n",
    "            factor=Config.LEARNING_RATE_FACTOR,\n",
    "            patience=Config.LEARNING_RATE_PATIENCE,\n",
    "            min_lr=1e-7,\n",
    "            verbose=1\n",
    "        ),\n",
    "\n",
    "        CSVLogger(\n",
    "            filename=f\"{Config.LOG_PATH}/{model_name}_training.csv\",\n",
    "            append=True\n",
    "        )\n",
    "    ]\n",
    "    \n",
    "    return callbacks\n",
    "\n",
    "def train_model(model: tf.keras.Model, model_name: str) -> tf.keras.callbacks.History:\n",
    "    logger.info(f\"Training {model_name}\")\n",
    "    \n",
    "    callbacks = create_callbacks(model_name)\n",
    "    \n",
    "    class_weights = compute_class_weight(\n",
    "        'balanced',\n",
    "        classes=np.unique(np.argmax(Y_train, axis=1)),\n",
    "        y=np.argmax(Y_train, axis=1)\n",
    "    )\n",
    "    class_weight_dict = dict(zip(range(len(class_weights)), class_weights))\n",
    "    \n",
    "    logger.info(f\"Class weights: {class_weight_dict}\")\n",
    "\n",
    "    history = model.fit(\n",
    "        X_train_emb, Y_train,\n",
    "        epochs=Config.EPOCHS,\n",
    "        batch_size=Config.BATCH_SIZE,\n",
    "        validation_split=Config.VALIDATION_SPLIT,\n",
    "        callbacks=callbacks,\n",
    "        class_weight=class_weight_dict,\n",
    "        verbose=1\n",
    "    )\n",
    "    \n",
    "    logger.info(f\"Training completed for {model_name}\")\n",
    "    return history\n",
    "\n",
    "advanced_history = train_model(advanced_model, \"advanced_lstm\")"
   ]
  },
  {
   "cell_type": "code",
   "execution_count": null,
   "metadata": {},
   "outputs": [
    {
     "name": "stderr",
     "output_type": "stream",
     "text": [
      "2025-08-04 15:18:50,068 - __main__ - INFO - Creating multi-input model\n",
      "2025-08-04 15:18:50,106 - __main__ - INFO - Multi-input model created\n"
     ]
    },
    {
     "data": {
      "text/html": [
       "<pre style=\"white-space:pre;overflow-x:auto;line-height:normal;font-family:Menlo,'DejaVu Sans Mono',consolas,'Courier New',monospace\"><span style=\"font-weight: bold\">Model: \"functional_26\"</span>\n",
       "</pre>\n"
      ],
      "text/plain": [
       "\u001b[1mModel: \"functional_26\"\u001b[0m\n"
      ]
     },
     "metadata": {},
     "output_type": "display_data"
    },
    {
     "data": {
      "text/html": [
       "<pre style=\"white-space:pre;overflow-x:auto;line-height:normal;font-family:Menlo,'DejaVu Sans Mono',consolas,'Courier New',monospace\">┏━━━━━━━━━━━━━━━━━━━━━┳━━━━━━━━━━━━━━━━━━━┳━━━━━━━━━━━━┳━━━━━━━━━━━━━━━━━━━┓\n",
       "┃<span style=\"font-weight: bold\"> Layer (type)        </span>┃<span style=\"font-weight: bold\"> Output Shape      </span>┃<span style=\"font-weight: bold\">    Param # </span>┃<span style=\"font-weight: bold\"> Connected to      </span>┃\n",
       "┡━━━━━━━━━━━━━━━━━━━━━╇━━━━━━━━━━━━━━━━━━━╇━━━━━━━━━━━━╇━━━━━━━━━━━━━━━━━━━┩\n",
       "│ input_layer_13      │ (<span style=\"color: #00d7ff; text-decoration-color: #00d7ff\">None</span>, <span style=\"color: #00af00; text-decoration-color: #00af00\">250</span>)       │          <span style=\"color: #00af00; text-decoration-color: #00af00\">0</span> │ -                 │\n",
       "│ (<span style=\"color: #0087ff; text-decoration-color: #0087ff\">InputLayer</span>)        │                   │            │                   │\n",
       "├─────────────────────┼───────────────────┼────────────┼───────────────────┤\n",
       "│ input_layer_14      │ (<span style=\"color: #00d7ff; text-decoration-color: #00d7ff\">None</span>, <span style=\"color: #00af00; text-decoration-color: #00af00\">8</span>)         │          <span style=\"color: #00af00; text-decoration-color: #00af00\">0</span> │ -                 │\n",
       "│ (<span style=\"color: #0087ff; text-decoration-color: #0087ff\">InputLayer</span>)        │                   │            │                   │\n",
       "├─────────────────────┼───────────────────┼────────────┼───────────────────┤\n",
       "│ embedding_35        │ (<span style=\"color: #00d7ff; text-decoration-color: #00d7ff\">None</span>, <span style=\"color: #00af00; text-decoration-color: #00af00\">250</span>, <span style=\"color: #00af00; text-decoration-color: #00af00\">100</span>)  │  <span style=\"color: #00af00; text-decoration-color: #00af00\">5,000,000</span> │ input_layer_13[<span style=\"color: #00af00; text-decoration-color: #00af00\">0</span>… │\n",
       "│ (<span style=\"color: #0087ff; text-decoration-color: #0087ff\">Embedding</span>)         │                   │            │                   │\n",
       "├─────────────────────┼───────────────────┼────────────┼───────────────────┤\n",
       "│ dense_55 (<span style=\"color: #0087ff; text-decoration-color: #0087ff\">Dense</span>)    │ (<span style=\"color: #00d7ff; text-decoration-color: #00d7ff\">None</span>, <span style=\"color: #00af00; text-decoration-color: #00af00\">32</span>)        │        <span style=\"color: #00af00; text-decoration-color: #00af00\">288</span> │ input_layer_14[<span style=\"color: #00af00; text-decoration-color: #00af00\">0</span>… │\n",
       "├─────────────────────┼───────────────────┼────────────┼───────────────────┤\n",
       "│ spatial_dropout1d_7 │ (<span style=\"color: #00d7ff; text-decoration-color: #00d7ff\">None</span>, <span style=\"color: #00af00; text-decoration-color: #00af00\">250</span>, <span style=\"color: #00af00; text-decoration-color: #00af00\">100</span>)  │          <span style=\"color: #00af00; text-decoration-color: #00af00\">0</span> │ embedding_35[<span style=\"color: #00af00; text-decoration-color: #00af00\">0</span>][<span style=\"color: #00af00; text-decoration-color: #00af00\">…</span> │\n",
       "│ (<span style=\"color: #0087ff; text-decoration-color: #0087ff\">SpatialDropout1D</span>)  │                   │            │                   │\n",
       "├─────────────────────┼───────────────────┼────────────┼───────────────────┤\n",
       "│ dropout_6 (<span style=\"color: #0087ff; text-decoration-color: #0087ff\">Dropout</span>) │ (<span style=\"color: #00d7ff; text-decoration-color: #00d7ff\">None</span>, <span style=\"color: #00af00; text-decoration-color: #00af00\">32</span>)        │          <span style=\"color: #00af00; text-decoration-color: #00af00\">0</span> │ dense_55[<span style=\"color: #00af00; text-decoration-color: #00af00\">0</span>][<span style=\"color: #00af00; text-decoration-color: #00af00\">0</span>]    │\n",
       "├─────────────────────┼───────────────────┼────────────┼───────────────────┤\n",
       "│ bidirectional_27    │ (<span style=\"color: #00d7ff; text-decoration-color: #00d7ff\">None</span>, <span style=\"color: #00af00; text-decoration-color: #00af00\">128</span>)       │     <span style=\"color: #00af00; text-decoration-color: #00af00\">84,480</span> │ spatial_dropout1… │\n",
       "│ (<span style=\"color: #0087ff; text-decoration-color: #0087ff\">Bidirectional</span>)     │                   │            │                   │\n",
       "├─────────────────────┼───────────────────┼────────────┼───────────────────┤\n",
       "│ dense_56 (<span style=\"color: #0087ff; text-decoration-color: #0087ff\">Dense</span>)    │ (<span style=\"color: #00d7ff; text-decoration-color: #00d7ff\">None</span>, <span style=\"color: #00af00; text-decoration-color: #00af00\">16</span>)        │        <span style=\"color: #00af00; text-decoration-color: #00af00\">528</span> │ dropout_6[<span style=\"color: #00af00; text-decoration-color: #00af00\">0</span>][<span style=\"color: #00af00; text-decoration-color: #00af00\">0</span>]   │\n",
       "├─────────────────────┼───────────────────┼────────────┼───────────────────┤\n",
       "│ concatenate_2       │ (<span style=\"color: #00d7ff; text-decoration-color: #00d7ff\">None</span>, <span style=\"color: #00af00; text-decoration-color: #00af00\">144</span>)       │          <span style=\"color: #00af00; text-decoration-color: #00af00\">0</span> │ bidirectional_27… │\n",
       "│ (<span style=\"color: #0087ff; text-decoration-color: #0087ff\">Concatenate</span>)       │                   │            │ dense_56[<span style=\"color: #00af00; text-decoration-color: #00af00\">0</span>][<span style=\"color: #00af00; text-decoration-color: #00af00\">0</span>]    │\n",
       "├─────────────────────┼───────────────────┼────────────┼───────────────────┤\n",
       "│ dense_57 (<span style=\"color: #0087ff; text-decoration-color: #0087ff\">Dense</span>)    │ (<span style=\"color: #00d7ff; text-decoration-color: #00d7ff\">None</span>, <span style=\"color: #00af00; text-decoration-color: #00af00\">64</span>)        │      <span style=\"color: #00af00; text-decoration-color: #00af00\">9,280</span> │ concatenate_2[<span style=\"color: #00af00; text-decoration-color: #00af00\">0</span>]… │\n",
       "├─────────────────────┼───────────────────┼────────────┼───────────────────┤\n",
       "│ dropout_7 (<span style=\"color: #0087ff; text-decoration-color: #0087ff\">Dropout</span>) │ (<span style=\"color: #00d7ff; text-decoration-color: #00d7ff\">None</span>, <span style=\"color: #00af00; text-decoration-color: #00af00\">64</span>)        │          <span style=\"color: #00af00; text-decoration-color: #00af00\">0</span> │ dense_57[<span style=\"color: #00af00; text-decoration-color: #00af00\">0</span>][<span style=\"color: #00af00; text-decoration-color: #00af00\">0</span>]    │\n",
       "├─────────────────────┼───────────────────┼────────────┼───────────────────┤\n",
       "│ dense_58 (<span style=\"color: #0087ff; text-decoration-color: #0087ff\">Dense</span>)    │ (<span style=\"color: #00d7ff; text-decoration-color: #00d7ff\">None</span>, <span style=\"color: #00af00; text-decoration-color: #00af00\">10</span>)        │        <span style=\"color: #00af00; text-decoration-color: #00af00\">650</span> │ dropout_7[<span style=\"color: #00af00; text-decoration-color: #00af00\">0</span>][<span style=\"color: #00af00; text-decoration-color: #00af00\">0</span>]   │\n",
       "└─────────────────────┴───────────────────┴────────────┴───────────────────┘\n",
       "</pre>\n"
      ],
      "text/plain": [
       "┏━━━━━━━━━━━━━━━━━━━━━┳━━━━━━━━━━━━━━━━━━━┳━━━━━━━━━━━━┳━━━━━━━━━━━━━━━━━━━┓\n",
       "┃\u001b[1m \u001b[0m\u001b[1mLayer (type)       \u001b[0m\u001b[1m \u001b[0m┃\u001b[1m \u001b[0m\u001b[1mOutput Shape     \u001b[0m\u001b[1m \u001b[0m┃\u001b[1m \u001b[0m\u001b[1m   Param #\u001b[0m\u001b[1m \u001b[0m┃\u001b[1m \u001b[0m\u001b[1mConnected to     \u001b[0m\u001b[1m \u001b[0m┃\n",
       "┡━━━━━━━━━━━━━━━━━━━━━╇━━━━━━━━━━━━━━━━━━━╇━━━━━━━━━━━━╇━━━━━━━━━━━━━━━━━━━┩\n",
       "│ input_layer_13      │ (\u001b[38;5;45mNone\u001b[0m, \u001b[38;5;34m250\u001b[0m)       │          \u001b[38;5;34m0\u001b[0m │ -                 │\n",
       "│ (\u001b[38;5;33mInputLayer\u001b[0m)        │                   │            │                   │\n",
       "├─────────────────────┼───────────────────┼────────────┼───────────────────┤\n",
       "│ input_layer_14      │ (\u001b[38;5;45mNone\u001b[0m, \u001b[38;5;34m8\u001b[0m)         │          \u001b[38;5;34m0\u001b[0m │ -                 │\n",
       "│ (\u001b[38;5;33mInputLayer\u001b[0m)        │                   │            │                   │\n",
       "├─────────────────────┼───────────────────┼────────────┼───────────────────┤\n",
       "│ embedding_35        │ (\u001b[38;5;45mNone\u001b[0m, \u001b[38;5;34m250\u001b[0m, \u001b[38;5;34m100\u001b[0m)  │  \u001b[38;5;34m5,000,000\u001b[0m │ input_layer_13[\u001b[38;5;34m0\u001b[0m… │\n",
       "│ (\u001b[38;5;33mEmbedding\u001b[0m)         │                   │            │                   │\n",
       "├─────────────────────┼───────────────────┼────────────┼───────────────────┤\n",
       "│ dense_55 (\u001b[38;5;33mDense\u001b[0m)    │ (\u001b[38;5;45mNone\u001b[0m, \u001b[38;5;34m32\u001b[0m)        │        \u001b[38;5;34m288\u001b[0m │ input_layer_14[\u001b[38;5;34m0\u001b[0m… │\n",
       "├─────────────────────┼───────────────────┼────────────┼───────────────────┤\n",
       "│ spatial_dropout1d_7 │ (\u001b[38;5;45mNone\u001b[0m, \u001b[38;5;34m250\u001b[0m, \u001b[38;5;34m100\u001b[0m)  │          \u001b[38;5;34m0\u001b[0m │ embedding_35[\u001b[38;5;34m0\u001b[0m][\u001b[38;5;34m…\u001b[0m │\n",
       "│ (\u001b[38;5;33mSpatialDropout1D\u001b[0m)  │                   │            │                   │\n",
       "├─────────────────────┼───────────────────┼────────────┼───────────────────┤\n",
       "│ dropout_6 (\u001b[38;5;33mDropout\u001b[0m) │ (\u001b[38;5;45mNone\u001b[0m, \u001b[38;5;34m32\u001b[0m)        │          \u001b[38;5;34m0\u001b[0m │ dense_55[\u001b[38;5;34m0\u001b[0m][\u001b[38;5;34m0\u001b[0m]    │\n",
       "├─────────────────────┼───────────────────┼────────────┼───────────────────┤\n",
       "│ bidirectional_27    │ (\u001b[38;5;45mNone\u001b[0m, \u001b[38;5;34m128\u001b[0m)       │     \u001b[38;5;34m84,480\u001b[0m │ spatial_dropout1… │\n",
       "│ (\u001b[38;5;33mBidirectional\u001b[0m)     │                   │            │                   │\n",
       "├─────────────────────┼───────────────────┼────────────┼───────────────────┤\n",
       "│ dense_56 (\u001b[38;5;33mDense\u001b[0m)    │ (\u001b[38;5;45mNone\u001b[0m, \u001b[38;5;34m16\u001b[0m)        │        \u001b[38;5;34m528\u001b[0m │ dropout_6[\u001b[38;5;34m0\u001b[0m][\u001b[38;5;34m0\u001b[0m]   │\n",
       "├─────────────────────┼───────────────────┼────────────┼───────────────────┤\n",
       "│ concatenate_2       │ (\u001b[38;5;45mNone\u001b[0m, \u001b[38;5;34m144\u001b[0m)       │          \u001b[38;5;34m0\u001b[0m │ bidirectional_27… │\n",
       "│ (\u001b[38;5;33mConcatenate\u001b[0m)       │                   │            │ dense_56[\u001b[38;5;34m0\u001b[0m][\u001b[38;5;34m0\u001b[0m]    │\n",
       "├─────────────────────┼───────────────────┼────────────┼───────────────────┤\n",
       "│ dense_57 (\u001b[38;5;33mDense\u001b[0m)    │ (\u001b[38;5;45mNone\u001b[0m, \u001b[38;5;34m64\u001b[0m)        │      \u001b[38;5;34m9,280\u001b[0m │ concatenate_2[\u001b[38;5;34m0\u001b[0m]… │\n",
       "├─────────────────────┼───────────────────┼────────────┼───────────────────┤\n",
       "│ dropout_7 (\u001b[38;5;33mDropout\u001b[0m) │ (\u001b[38;5;45mNone\u001b[0m, \u001b[38;5;34m64\u001b[0m)        │          \u001b[38;5;34m0\u001b[0m │ dense_57[\u001b[38;5;34m0\u001b[0m][\u001b[38;5;34m0\u001b[0m]    │\n",
       "├─────────────────────┼───────────────────┼────────────┼───────────────────┤\n",
       "│ dense_58 (\u001b[38;5;33mDense\u001b[0m)    │ (\u001b[38;5;45mNone\u001b[0m, \u001b[38;5;34m10\u001b[0m)        │        \u001b[38;5;34m650\u001b[0m │ dropout_7[\u001b[38;5;34m0\u001b[0m][\u001b[38;5;34m0\u001b[0m]   │\n",
       "└─────────────────────┴───────────────────┴────────────┴───────────────────┘\n"
      ]
     },
     "metadata": {},
     "output_type": "display_data"
    },
    {
     "data": {
      "text/html": [
       "<pre style=\"white-space:pre;overflow-x:auto;line-height:normal;font-family:Menlo,'DejaVu Sans Mono',consolas,'Courier New',monospace\"><span style=\"font-weight: bold\"> Total params: </span><span style=\"color: #00af00; text-decoration-color: #00af00\">5,095,226</span> (19.44 MB)\n",
       "</pre>\n"
      ],
      "text/plain": [
       "\u001b[1m Total params: \u001b[0m\u001b[38;5;34m5,095,226\u001b[0m (19.44 MB)\n"
      ]
     },
     "metadata": {},
     "output_type": "display_data"
    },
    {
     "data": {
      "text/html": [
       "<pre style=\"white-space:pre;overflow-x:auto;line-height:normal;font-family:Menlo,'DejaVu Sans Mono',consolas,'Courier New',monospace\"><span style=\"font-weight: bold\"> Trainable params: </span><span style=\"color: #00af00; text-decoration-color: #00af00\">5,095,226</span> (19.44 MB)\n",
       "</pre>\n"
      ],
      "text/plain": [
       "\u001b[1m Trainable params: \u001b[0m\u001b[38;5;34m5,095,226\u001b[0m (19.44 MB)\n"
      ]
     },
     "metadata": {},
     "output_type": "display_data"
    },
    {
     "data": {
      "text/html": [
       "<pre style=\"white-space:pre;overflow-x:auto;line-height:normal;font-family:Menlo,'DejaVu Sans Mono',consolas,'Courier New',monospace\"><span style=\"font-weight: bold\"> Non-trainable params: </span><span style=\"color: #00af00; text-decoration-color: #00af00\">0</span> (0.00 B)\n",
       "</pre>\n"
      ],
      "text/plain": [
       "\u001b[1m Non-trainable params: \u001b[0m\u001b[38;5;34m0\u001b[0m (0.00 B)\n"
      ]
     },
     "metadata": {},
     "output_type": "display_data"
    }
   ],
   "source": [
    "def create_multi_input_model() -> tf.keras.Model:\n",
    "    logger.info(\"Creating multi-input model\")\n",
    "\n",
    "    text_input = Input(shape=(Config.MAX_LENGTH,))\n",
    "    text_embedding = Embedding(Config.MAX_WORDS, Config.EMBEDDING_DIM)(text_input)\n",
    "    text_dropout = SpatialDropout1D(0.2)(text_embedding)\n",
    "    text_lstm = Bidirectional(LSTM(64, dropout=0.2, recurrent_dropout=0.2))(text_dropout)\n",
    "    text_branch = Model(inputs=text_input, outputs=text_lstm)\n",
    "\n",
    "    meta_input = Input(shape=(X_train_meta.shape[1],))\n",
    "    meta_dense1 = Dense(32, activation='relu')(meta_input)\n",
    "    meta_dropout = Dropout(0.3)(meta_dense1)\n",
    "    meta_dense2 = Dense(16, activation='relu')(meta_dropout)\n",
    "    meta_branch = Model(inputs=meta_input, outputs=meta_dense2)\n",
    "\n",
    "    combined = concatenate([text_branch.output, meta_branch.output])\n",
    "\n",
    "    dense1 = Dense(64, activation='relu')(combined)\n",
    "    dropout = Dropout(0.3)(dense1)\n",
    "    output = Dense(Y_train.shape[1], activation='softmax')(dropout)\n",
    "\n",
    "    model = Model(inputs=[text_branch.input, meta_branch.input], outputs=output)\n",
    "\n",
    "    model.compile(\n",
    "        loss='categorical_crossentropy',\n",
    "        optimizer=Adam(learning_rate=Config.LEARNING_RATE),\n",
    "        metrics=['accuracy', Precision(), Recall()]\n",
    "    )\n",
    "    \n",
    "    logger.info(\"Multi-input model created\")\n",
    "    return model\n",
    "\n",
    "multi_input_model = create_multi_input_model()\n",
    "multi_input_model.summary()"
   ]
  },
  {
   "cell_type": "code",
   "execution_count": null,
   "metadata": {},
   "outputs": [
    {
     "name": "stderr",
     "output_type": "stream",
     "text": [
      "2025-08-04 15:20:45,515 - __main__ - INFO - Evaluating Advanced LSTM\n"
     ]
    },
    {
     "name": "stdout",
     "output_type": "stream",
     "text": [
      "Evaluating Advanced LSTM Model...\n",
      "\u001b[1m122/122\u001b[0m \u001b[32m━━━━━━━━━━━━━━━━━━━━\u001b[0m\u001b[37m\u001b[0m \u001b[1m7s\u001b[0m 56ms/step\n"
     ]
    },
    {
     "name": "stderr",
     "output_type": "stream",
     "text": [
      "2025-08-04 15:20:52,418 - __main__ - INFO - Advanced LSTM Results:\n",
      "2025-08-04 15:20:52,419 - __main__ - INFO -   Accuracy: 0.5814\n",
      "2025-08-04 15:20:52,419 - __main__ - INFO -   Precision: 0.5706\n",
      "2025-08-04 15:20:52,420 - __main__ - INFO -   Recall: 0.5814\n",
      "2025-08-04 15:20:52,420 - __main__ - INFO -   F1-Score: 0.5542\n"
     ]
    },
    {
     "name": "stdout",
     "output_type": "stream",
     "text": [
      "Plotting Training History...\n"
     ]
    },
    {
     "data": {
      "image/png": "[encoded data removed]",
      "text/plain": [
       "<Figure size 1500x500 with 2 Axes>"
      ]
     },
     "metadata": {},
     "output_type": "display_data"
    }
   ],
   "source": [
    "def evaluate_model(model: tf.keras.Model, X_test: np.ndarray, Y_test: np.ndarray, model_name: str) -> Dict:\n",
    "    logger.info(f\"Evaluating {model_name}\")\n",
    "    y_pred_proba = model.predict(X_test)\n",
    "    y_pred = np.argmax(y_pred_proba, axis=1)\n",
    "    y_true = np.argmax(Y_test, axis=1)\n",
    "\n",
    "    accuracy = accuracy_score(y_true, y_pred)\n",
    "    precision = precision_score(y_true, y_pred, average='weighted')\n",
    "    recall = recall_score(y_true, y_pred, average='weighted')\n",
    "    f1 = f1_score(y_true, y_pred, average='weighted')\n",
    "\n",
    "    class_report = classification_report(y_true, y_pred, output_dict=True)\n",
    "\n",
    "    cm = confusion_matrix(y_true, y_pred)\n",
    "\n",
    "    logger.info(f\"{model_name} Results:\")\n",
    "    logger.info(f\"  Accuracy: {accuracy:.4f}\")\n",
    "    logger.info(f\"  Precision: {precision:.4f}\")\n",
    "    logger.info(f\"  Recall: {recall:.4f}\")\n",
    "    logger.info(f\"  F1-Score: {f1:.4f}\")\n",
    "    \n",
    "    return {\n",
    "        'accuracy': accuracy,\n",
    "        'precision': precision,\n",
    "        'recall': recall,\n",
    "        'f1': f1,\n",
    "        'confusion_matrix': cm,\n",
    "        'classification_report': class_report,\n",
    "        'predictions': y_pred,\n",
    "        'probabilities': y_pred_proba\n",
    "    }\n",
    "\n",
    "print(\"Evaluating Advanced LSTM Model...\")\n",
    "advanced_results = evaluate_model(advanced_model, X_test_emb, Y_test, \"Advanced LSTM\")\n",
    "\n",
    "def plot_training_history(history: tf.keras.callbacks.History, model_name: str) -> None:\n",
    "    \"\"\"Plot training history\"\"\"\n",
    "    fig, (ax1, ax2) = plt.subplots(1, 2, figsize=(15, 5))\n",
    "\n",
    "    ax1.plot(history.history['accuracy'], label='Training Accuracy')\n",
    "    ax1.plot(history.history['val_accuracy'], label='Validation Accuracy')\n",
    "    ax1.set_title(f'{model_name} - Accuracy')\n",
    "    ax1.set_xlabel('Epoch')\n",
    "    ax1.set_ylabel('Accuracy')\n",
    "    ax1.legend()\n",
    "    ax1.grid(True)\n",
    "\n",
    "    ax2.plot(history.history['loss'], label='Training Loss')\n",
    "    ax2.plot(history.history['val_loss'], label='Validation Loss')\n",
    "    ax2.set_title(f'{model_name} - Loss')\n",
    "    ax2.set_xlabel('Epoch')\n",
    "    ax2.set_ylabel('Loss')\n",
    "    ax2.legend()\n",
    "    ax2.grid(True)\n",
    "    \n",
    "    plt.tight_layout()\n",
    "    plt.show()\n",
    "print(\"Plotting Training History...\")\n",
    "plot_training_history(advanced_history, \"Advanced LSTM\")\n"
   ]
  },
  {
   "cell_type": "code",
   "execution_count": null,
   "metadata": {},
   "outputs": [],
   "source": [
    "def save_model_and_tokenizer(model: tf.keras.Model, tokenizer: Tokenizer, model_name: str) -> None:\n",
    "\n",
    "    model_path = f\"{Config.MODEL_SAVE_PATH}/{model_name}.keras\"\n",
    "    model.save(model_path)\n",
    "    logger.info(f\"Model saved to {model_path}\")\n",
    "\n",
    "    tokenizer_path = f\"{Config.MODEL_SAVE_PATH}/{model_name}_tokenizer.pickle\"\n",
    "    with open(tokenizer_path, 'wb') as handle:\n",
    "        pickle.dump(tokenizer, handle, protocol=pickle.HIGHEST_PROTOCOL)\n",
    "    logger.info(f\"Tokenizer saved to {tokenizer_path}\")\n",
    "\n",
    "    mapping_path = f\"{Config.MODEL_SAVE_PATH}/{model_name}_labels.json\"\n",
    "    with open(mapping_path, 'w') as f:\n",
    "        json.dump(label_mapping, f)\n",
    "    logger.info(f\"Label mapping saved to {mapping_path}\")\n",
    "\n",
    "def load_model_and_tokenizer(model_name: str) -> Tuple[tf.keras.Model, Tokenizer, Dict]:\n",
    "\n",
    "    model_path = f\"{Config.MODEL_SAVE_PATH}/{model_name}.keras\"\n",
    "    model = tf.keras.models.load_model(model_path)\n",
    "\n",
    "    tokenizer_path = f\"{Config.MODEL_SAVE_PATH}/{model_name}_tokenizer.pickle\"\n",
    "    with open(tokenizer_path, 'rb') as handle:\n",
    "        tokenizer = pickle.load(handle)\n",
    "\n",
    "    mapping_path = f\"{Config.MODEL_SAVE_PATH}/{model_name}_labels.json\"\n",
    "    with open(mapping_path, 'r') as f:\n",
    "        label_mapping = json.load(f)\n",
    "    \n",
    "    return model, tokenizer, label_mapping"
   ]
  },
  {
   "cell_type": "code",
   "execution_count": null,
   "metadata": {},
   "outputs": [
    {
     "name": "stdout",
     "output_type": "stream",
     "text": [
      "Complete prediction results:\n",
      "\n",
      "Text: Technical support ticket #12345 has been resolved\n",
      "Predicted: Personal (confidence: 0.669)\n",
      "Top 3 predictions:\n",
      "  1. Personal: 0.669\n",
      "  2. Marketing: 0.104\n",
      "  3. Business: 0.086\n",
      "\n",
      "Text: Please transfer the funds to account 12345\n",
      "Predicted: Personal (confidence: 0.388)\n",
      "Top 3 predictions:\n",
      "  1. Personal: 0.388\n",
      "  2. Business: 0.218\n",
      "  3. Class_9: 0.184\n",
      "\n",
      "Text: Thank you for your interest in our MBA program\n",
      "Predicted: Marketing (confidence: 0.627)\n",
      "Top 3 predictions:\n",
      "  1. Marketing: 0.627\n",
      "  2. Class_9: 0.198\n",
      "  3. Personal: 0.094\n",
      "\n",
      "Text: The quarterly financial report shows positive growth\n",
      "Predicted: Personal (confidence: 0.933)\n",
      "Top 3 predictions:\n",
      "  1. Personal: 0.933\n",
      "  2. Business: 0.036\n",
      "  3. Marketing: 0.009\n",
      "\n",
      "Text: I'm sorry, but I can't help with that. Please contact support.\n",
      "Predicted: Technical (confidence: 0.813)\n",
      "Top 3 predictions:\n",
      "  1. Technical: 0.813\n",
      "  2. Personal: 0.108\n",
      "  3. Business: 0.022\n"
     ]
    }
   ],
   "source": [
    "def predict_text(text: str, model: tf.keras.Model, tokenizer: Tokenizer) -> Dict:\n",
    "\n",
    "    cleaned_text = text_cleaning(text)\n",
    "\n",
    "    sequence = tokenizer.texts_to_sequences([cleaned_text])\n",
    "    padded = pad_sequences(sequence, maxlen=Config.MAX_LENGTH, padding='post', truncating='post')\n",
    "\n",
    "    prediction = model.predict(padded, verbose=0)\n",
    "    predicted_class_idx = np.argmax(prediction[0])\n",
    "    confidence = np.max(prediction[0])\n",
    "\n",
    "    try:\n",
    "        original_label_value = label_mapping[predicted_class_idx]\n",
    "    except KeyError:\n",
    "        print(f\"Warning: Class index {predicted_class_idx} not found in label_mapping\")\n",
    "        original_label_value = predicted_class_idx  # Fallback\n",
    "\n",
    "    predicted_label_name = Config.LABEL_MAPPING.get(int(original_label_value), f'Class_{int(original_label_value)}')\n",
    "    \n",
    "    return {\n",
    "        'text': text,\n",
    "        'cleaned_text': cleaned_text,\n",
    "        'predicted_class_idx': predicted_class_idx,\n",
    "        'predicted_label_value': original_label_value,\n",
    "        'predicted_label_name': predicted_label_name,\n",
    "        'confidence': confidence,\n",
    "        'probabilities': prediction[0].tolist()\n",
    "    }\n",
    "\n",
    "#Test\n",
    "sample_texts = [\n",
    "    \"Password reset request for user ID 98765 has been completed\",\n",
    "    \"Your payment of $250 has been successfully processed\",\n",
    "    \"We appreciate your application to our summer internship program\",\n",
    "    \"The annual sales review indicates a 15% increase in revenue\",\n",
    "    \"Your request has been forwarded to the customer service department\",\n",
    "    \"Shipment tracking number 54321 is now in transit\",\n",
    "    \"The conference call is scheduled for 10:00 AM on Monday\",\n",
    "    \"Your subscription will renew automatically on August 15, 2025\",\n",
    "    \"The product warranty covers repairs for up to two years\",\n",
    "    \"Please update your billing information to avoid service interruption\"\n",
    "]\n",
    "\n",
    "print(\"Complete prediction results:\")\n",
    "for text in sample_texts:\n",
    "    result = predict_text(text, advanced_model, tokenizer)\n",
    "    print(f\"\\nText: {result['text']}\")\n",
    "    print(f\"Predicted: {result['predicted_label_name']} (confidence: {result['confidence']:.3f})\")\n",
    "    \n",
    "    probs = [(i, p) for i, p in enumerate(result['probabilities'])]\n",
    "    probs.sort(key=lambda x: x[1], reverse=True)\n",
    "    print(\"Top 3 predictions:\")\n",
    "    for i, (class_idx, prob) in enumerate(probs[:3]):\n",
    "        try:\n",
    "            original_label = label_mapping[class_idx]\n",
    "            label_name = Config.LABEL_MAPPING.get(int(original_label), f'Class_{int(original_label)}')\n",
    "        except KeyError:\n",
    "            label_name = f'Class_{class_idx}'\n",
    "        print(f\"  {i+1}. {label_name}: {prob:.3f}\")"
   ]
  }
 ],
 "metadata": {
  "colab": {
   "collapsed_sections": [
    "r1RL9y1zcpmt",
    "2mKaSNlGcpnx",
    "4G2TUvg_cpr-",
    "8-1FrzRJcpsI"
   ],
   "name": "LSTM_VicenteValdez_PedroJunior.ipynb",
   "provenance": [],
   "version": "0.3.2"
  },
  "kernelspec": {
   "display_name": "Python 3 (ipykernel)",
   "language": "python",
   "name": "python3"
  },
  "language_info": {
   "codemirror_mode": {
    "name": "ipython",
    "version": 3
   },
   "file_extension": ".py",
   "mimetype": "text/x-python",
   "name": "python",
   "nbconvert_exporter": "python",
   "pygments_lexer": "ipython3",
   "version": "3.10.12"
  }
 },
 "nbformat": 4,
 "nbformat_minor": 1
}
