{
 "cells": [
  {
   "cell_type": "markdown",
   "metadata": {
    "colab_type": "text",
    "id": "WmyzGg7qyYb1"
   },
   "source": [
    "# Project Configs and Imports"
   ]
  },
  {
   "cell_type": "code",
   "execution_count": 1,
   "metadata": {
    "ExecuteTime": {
     "end_time": "2020-08-04T20:05:24.549445Z",
     "start_time": "2020-08-04T20:05:23.851738Z"
    },
    "colab": {},
    "colab_type": "code",
    "id": "E2rgQMvCyYb3"
   },
   "outputs": [
    {
     "name": "stderr",
     "output_type": "stream",
     "text": [
      "/home/kaho/.local/lib/python3.10/site-packages/matplotlib/projections/__init__.py:63: UserWarning: Unable to import Axes3D. This may be due to multiple versions of Matplotlib being installed (e.g. as a system package and as a pip package). As a result, the 3D projection is not available.\n",
      "  warnings.warn(\"Unable to import Axes3D. This may be due to multiple versions of \"\n",
      "[nltk_data] Downloading package stopwords to /home/kaho/nltk_data...\n",
      "[nltk_data]   Package stopwords is already up-to-date!\n",
      "[nltk_data] Downloading package punkt to /home/kaho/nltk_data...\n",
      "[nltk_data]   Package punkt is already up-to-date!\n"
     ]
    }
   ],
   "source": [
    "import os\n",
    "import re\n",
    "from datetime import datetime as dt\n",
    "from typing import Dict, List, Optional, Tuple\n",
    "import logging\n",
    "import warnings\n",
    "import numpy as np\n",
    "import pandas as pd\n",
    "import matplotlib.pyplot as plt\n",
    "import seaborn as sns  \n",
    "import email\n",
    "from dateutil import parser\n",
    "import calendar\n",
    "from tqdm import tqdm\n",
    "import pickle\n",
    "import gensim\n",
    "from gensim.models import KeyedVectors, Word2Vec\n",
    "import nltk\n",
    "nltk.download('stopwords')\n",
    "nltk.download('punkt')\n",
    "from nltk.corpus import stopwords\n",
    "from nltk.tokenize import word_tokenize\n",
    "import string\n",
    "from sklearn.cluster import KMeans\n",
    "from sklearn.metrics import silhouette_score\n",
    "from sklearn.preprocessing import StandardScaler\n",
    "logging.basicConfig(level=logging.INFO, format='%(asctime)s - %(levelname)s - %(message)s')\n",
    "logger = logging.getLogger(__name__)\n",
    "warnings.filterwarnings('ignore')\n",
    "np.random.seed(67)"
   ]
  },
  {
   "cell_type": "code",
   "execution_count": 3,
   "metadata": {
    "ExecuteTime": {
     "end_time": "2020-08-04T20:05:33.222196Z",
     "start_time": "2020-08-04T20:05:33.219195Z"
    }
   },
   "outputs": [
    {
     "name": "stderr",
     "output_type": "stream",
     "text": [
      "2025-08-04 17:26:08,869 - INFO - Ensured directory exists: siftmail/Datasets/\n",
      "2025-08-04 17:26:08,869 - INFO - Ensured directory exists: siftmail/Models/\n",
      "2025-08-04 17:26:08,870 - INFO - Ensured directory exists: siftmail/Logs/\n",
      "2025-08-04 17:26:08,870 - INFO - Ensured directory exists: siftmail/Figures/\n"
     ]
    }
   ],
   "source": [
    "# Configuration\n",
    "CONFIG = {\n",
    "    'dataset_directory': \"siftmail/Datasets/\",\n",
    "    'models_directory': \"siftmail/Models/\",\n",
    "    'logs_directory': \"siftmail/Logs/\",\n",
    "    'figures_directory': \"siftmail/Figures/\"\n",
    "}\n",
    "\n",
    "# Create directories if they don't exist\n",
    "for directory in CONFIG.values():\n",
    "    os.makedirs(directory, exist_ok=True)\n",
    "    logger.info(f\"Ensured directory exists: {directory}\")"
   ]
  },
  {
   "cell_type": "markdown",
   "metadata": {},
   "source": [
    "# Loading Original Data"
   ]
  },
  {
   "cell_type": "code",
   "execution_count": 4,
   "metadata": {
    "ExecuteTime": {
     "end_time": "2020-08-04T18:31:24.109445Z",
     "start_time": "2020-08-04T18:31:10.819739Z"
    },
    "colab": {
     "base_uri": "https://localhost:8080/",
     "height": 202
    },
    "colab_type": "code",
    "executionInfo": {
     "elapsed": 56296,
     "status": "ok",
     "timestamp": 1557214469199,
     "user": {
      "displayName": "Arjun Patel",
      "photoUrl": "https://lh5.googleusercontent.com/-BlLPIwYkZoQ/AAAAAAAAAAI/AAAAAAAABy0/fGnMWZAEyF0/s64/photo.jpg",
      "userId": "15471468418524645217"
     },
     "user_tz": 420
    },
    "id": "aMCePl4bUSq2",
    "outputId": "3580a455-a605-4591-ba8d-e479a60c8140"
   },
   "outputs": [
    {
     "name": "stderr",
     "output_type": "stream",
     "text": [
      "2025-08-04 17:22:03,720 - INFO - Loading data from siftmail/Datasets/emails.csv\n",
      "2025-08-04 17:22:08,900 - INFO - Loaded 517401 rows and 2 columns\n"
     ]
    },
    {
     "name": "stdout",
     "output_type": "stream",
     "text": [
      "Dataset shape: (517401, 2)\n",
      "Memory usage: 1411.48 MB\n"
     ]
    }
   ],
   "source": [
    "def load_data(filepath: str) -> pd.DataFrame:\n",
    "    try:\n",
    "        logger.info(f\"Loading data from {filepath}\")\n",
    "        data = pd.read_csv(filepath)\n",
    "        if data.empty:\n",
    "            raise ValueError(\"Dataset is empty\")\n",
    "        \n",
    "        logger.info(f\"Loaded {len(data)} rows and {len(data.columns)} columns\")\n",
    "        return data\n",
    "    except FileNotFoundError:\n",
    "        logger.error(f\"File not found: {filepath}\")\n",
    "        raise\n",
    "    except Exception as e:\n",
    "        logger.error(f\"Error loading data: {str(e)}\")\n",
    "        raise\n",
    "\n",
    "dataset_OG = load_data(os.path.join(CONFIG['dataset_directory'], \"emails.csv\"))\n",
    "data = dataset_OG.copy()\n",
    "\n",
    "print(f\"Dataset shape: {data.shape}\")\n",
    "print(f\"Memory usage: {data.memory_usage(deep=True).sum() / 1024**2:.2f} MB\")"
   ]
  },
  {
   "cell_type": "markdown",
   "metadata": {
    "colab_type": "text",
    "id": "xVmJF-pyyYcC"
   },
   "source": [
    "# Feature Extractions \n"
   ]
  },
  {
   "cell_type": "markdown",
   "metadata": {
    "colab_type": "text",
    "id": "LdScXVlbyYcD"
   },
   "source": [
    "### Extracting Headers"
   ]
  },
  {
   "cell_type": "markdown",
   "metadata": {},
   "source": [
    "Parse and extract specified headers from raw emails. "
   ]
  },
  {
   "cell_type": "code",
   "execution_count": 5,
   "metadata": {
    "ExecuteTime": {
     "end_time": "2020-08-04T18:31:24.123439Z",
     "start_time": "2020-08-04T18:31:24.117447Z"
    }
   },
   "outputs": [
    {
     "name": "stderr",
     "output_type": "stream",
     "text": [
      "2025-08-04 17:22:31,255 - INFO - Successfully retrieved header information!\n"
     ]
    }
   ],
   "source": [
    "class EmailHeaderExtractor:\n",
    "    \n",
    "    def __init__(self, header_names: List[str]):\n",
    "        self.header_names = header_names\n",
    "    \n",
    "    def insert_value(self, dictionary: Dict, key: str, value: str) -> Dict:\n",
    "        if key in dictionary:\n",
    "            dictionary[key].append(value)\n",
    "        else:\n",
    "            dictionary[key] = [value]\n",
    "        return dictionary\n",
    "    \n",
    "    def get_headers(self, df: pd.DataFrame) -> Dict[str, List[str]]:\n",
    "        headers = {name: [] for name in self.header_names}\n",
    "        \n",
    "        for idx, message in enumerate(df[\"message\"]):\n",
    "            try:\n",
    "                e = email.message_from_string(message)\n",
    "                for header_name in self.header_names:\n",
    "                    header_value = e.get(header_name, None)\n",
    "                    headers[header_name].append(header_value)\n",
    "            except Exception as e:\n",
    "                logger.warning(f\"Error processing message {idx}: {str(e)}\")\n",
    "                # Add None for all headers for this message\n",
    "                for header_name in self.header_names:\n",
    "                    headers[header_name].append(None)\n",
    "        \n",
    "        logger.info(\"Successfully retrieved header information!\")\n",
    "        return headers\n",
    "\n",
    "header_names = [\"Date\", \"Subject\", \"X-Folder\", \"X-From\", \"X-To\"]\n",
    "extractor = EmailHeaderExtractor(header_names)\n",
    "headers = extractor.get_headers(data)\n",
    "\n",
    "for key, values in headers.items():\n",
    "    data[key] = values"
   ]
  },
  {
   "cell_type": "code",
   "execution_count": 5,
   "metadata": {
    "ExecuteTime": {
     "end_time": "2020-08-04T18:32:43.449941Z",
     "start_time": "2020-08-04T18:31:24.124439Z"
    },
    "colab": {
     "base_uri": "https://localhost:8080/",
     "height": 690
    },
    "colab_type": "code",
    "executionInfo": {
     "elapsed": 156906,
     "status": "ok",
     "timestamp": 1557214569854,
     "user": {
      "displayName": "Arjun Patel",
      "photoUrl": "https://lh5.googleusercontent.com/-BlLPIwYkZoQ/AAAAAAAAAAI/AAAAAAAABy0/fGnMWZAEyF0/s64/photo.jpg",
      "userId": "15471468418524645217"
     },
     "user_tz": 420
    },
    "id": "5Z7N2aauyYcE",
    "outputId": "319b21d3-8c0b-4543-888b-45e6acc83616"
   },
   "outputs": [],
   "source": [
    "#Debug info\n",
    "#data.head()"
   ]
  },
  {
   "cell_type": "markdown",
   "metadata": {
    "colab_type": "text",
    "id": "op-Qp1k7yYcG"
   },
   "source": [
    "### Extracting Messages"
   ]
  },
  {
   "cell_type": "code",
   "execution_count": 6,
   "metadata": {
    "ExecuteTime": {
     "end_time": "2020-08-04T18:32:43.455737Z",
     "start_time": "2020-08-04T18:32:43.450951Z"
    }
   },
   "outputs": [
    {
     "name": "stderr",
     "output_type": "stream",
     "text": [
      "2025-08-04 17:22:50,931 - INFO - Successfully retrieved message bodies!\n"
     ]
    }
   ],
   "source": [
    "def get_messages(df: pd.DataFrame, max_length: int = 10000) -> List[str]:\n",
    "    messages = []\n",
    "    \n",
    "    for idx, item in enumerate(df[\"message\"]):\n",
    "        try:\n",
    "            e = email.message_from_string(item)\n",
    "            message_body = e.get_payload()\n",
    "            \n",
    "            if message_body:\n",
    "                message_body = message_body.lower().strip()\n",
    "                if len(message_body) > max_length:\n",
    "                    message_body = message_body[:max_length]\n",
    "                    logger.debug(f\"Truncated message {idx} to {max_length} characters\")\n",
    "            else:\n",
    "                message_body = \"\"\n",
    "                \n",
    "            messages.append(message_body)\n",
    "            \n",
    "        except Exception as e:\n",
    "            logger.warning(f\"Error processing message {idx}: {str(e)}\")\n",
    "            messages.append(\"\")\n",
    "    \n",
    "    logger.info(\"Successfully retrieved message bodies!\")\n",
    "    return messages\n",
    "\n",
    "data[\"Message-Body\"] = get_messages(data, max_length=10000)"
   ]
  },
  {
   "cell_type": "code",
   "execution_count": 7,
   "metadata": {
    "ExecuteTime": {
     "end_time": "2020-08-04T18:33:59.094542Z",
     "start_time": "2020-08-04T18:32:43.456737Z"
    },
    "colab": {
     "base_uri": "https://localhost:8080/",
     "height": 690
    },
    "colab_type": "code",
    "executionInfo": {
     "elapsed": 249551,
     "status": "ok",
     "timestamp": 1557214662518,
     "user": {
      "displayName": "Arjun Patel",
      "photoUrl": "https://lh5.googleusercontent.com/-BlLPIwYkZoQ/AAAAAAAAAAI/AAAAAAAABy0/fGnMWZAEyF0/s64/photo.jpg",
      "userId": "15471468418524645217"
     },
     "user_tz": 420
    },
    "id": "phizJvVPyYcH",
    "outputId": "52c04214-9ae6-4140-9964-28fe5e9cb2c1",
    "scrolled": true
   },
   "outputs": [],
   "source": [
    "#Debug info\n",
    "#data.head()"
   ]
  },
  {
   "cell_type": "markdown",
   "metadata": {
    "colab_type": "text",
    "id": "VXGbdAfxyYcK"
   },
   "source": [
    "### Extract Employee Names"
   ]
  },
  {
   "cell_type": "code",
   "execution_count": null,
   "metadata": {
    "ExecuteTime": {
     "end_time": "2020-08-04T18:33:59.101542Z",
     "start_time": "2020-08-04T18:33:59.096542Z"
    }
   },
   "outputs": [],
   "source": [
    "def extract_employee_name(file_path: str) -> str:\n",
    "    try:\n",
    "        tokens = file_path.split('/')\n",
    "        return tokens[0] if tokens else \"unknown\"\n",
    "    except Exception:\n",
    "        return \"unknown\"\n",
    "data['employee'] = data['file'].apply(extract_employee_name)"
   ]
  },
  {
   "cell_type": "code",
   "execution_count": 9,
   "metadata": {
    "ExecuteTime": {
     "end_time": "2020-08-04T18:33:59.951092Z",
     "start_time": "2020-08-04T18:33:59.103647Z"
    },
    "colab": {
     "base_uri": "https://localhost:8080/",
     "height": 690
    },
    "colab_type": "code",
    "executionInfo": {
     "elapsed": 250606,
     "status": "ok",
     "timestamp": 1557214663584,
     "user": {
      "displayName": "Arjun Patel",
      "photoUrl": "https://lh5.googleusercontent.com/-BlLPIwYkZoQ/AAAAAAAAAAI/AAAAAAAABy0/fGnMWZAEyF0/s64/photo.jpg",
      "userId": "15471468418524645217"
     },
     "user_tz": 420
    },
    "id": "ssOsgZV_yYcK",
    "outputId": "c6a87474-1f78-46e5-db02-c1d291071a73"
   },
   "outputs": [],
   "source": [
    "#debug info\n",
    "#data.head()"
   ]
  },
  {
   "cell_type": "markdown",
   "metadata": {
    "colab_type": "text",
    "id": "QNrZ6ylyyYcM"
   },
   "source": [
    "# Date -> Datetime Conversion"
   ]
  },
  {
   "cell_type": "markdown",
   "metadata": {},
   "source": [
    "Due to inconsistency, it is difficult to parse reliably. We need to conver the raw date strings into proper datetime ojbects. Parsing will handle both typical formats and fallback cases, which will allow us to safely extract day of the week. "
   ]
  },
  {
   "cell_type": "code",
   "execution_count": 7,
   "metadata": {
    "ExecuteTime": {
     "end_time": "2020-08-04T18:33:59.958085Z",
     "start_time": "2020-08-04T18:33:59.952082Z"
    }
   },
   "outputs": [],
   "source": [
    "\n",
    "class DateProcessor:\n",
    "    @staticmethod\n",
    "    def month_mapping(month_str: str) -> int:\n",
    "        month_map = {abbr: num for num, abbr in enumerate(calendar.month_abbr)}\n",
    "        return month_map.get(month_str, 1)\n",
    "    \n",
    "    @staticmethod\n",
    "    def extract_date(date_string: str) -> Optional[dt]:\n",
    "        if pd.isna(date_string):\n",
    "            return None\n",
    "            \n",
    "        try:\n",
    "            if isinstance(date_string, str):\n",
    "                if re.match(r'\\w{3}, \\d{1,2} \\w{3} \\d{4}', date_string):\n",
    "                    date_array = re.split(\" \", date_string)\n",
    "                    time_array = re.split(\":\", date_array[4])\n",
    "                    return dt(\n",
    "                        year=int(date_array[3]),\n",
    "                        month=DateProcessor.month_mapping(date_array[2]),\n",
    "                        day=int(date_array[1]),\n",
    "                        hour=int(time_array[0]),\n",
    "                        minute=int(time_array[1]),\n",
    "                        second=int(time_array[2])\n",
    "                    )\n",
    "                else:\n",
    "                    return parser.parse(date_string)\n",
    "        except Exception as e:\n",
    "            logger.warning(f\"Could not parse date '{date_string}': {str(e)}\")\n",
    "            return None\n",
    "\n",
    "processor = DateProcessor()\n",
    "data['Date_datetime'] = data['Date'].apply(processor.extract_date)\n",
    "data['Day_of_week'] = data['Date'].apply(lambda x: re.split(\" \", x)[0][:-1] if pd.notna(x) else None)"
   ]
  },
  {
   "cell_type": "code",
   "execution_count": 11,
   "metadata": {
    "ExecuteTime": {
     "end_time": "2020-08-04T18:34:06.691739Z",
     "start_time": "2020-08-04T18:33:59.959085Z"
    },
    "colab": {
     "base_uri": "https://localhost:8080/",
     "height": 673
    },
    "colab_type": "code",
    "executionInfo": {
     "elapsed": 257940,
     "status": "ok",
     "timestamp": 1557214670930,
     "user": {
      "displayName": "Arjun Patel",
      "photoUrl": "https://lh5.googleusercontent.com/-BlLPIwYkZoQ/AAAAAAAAAAI/AAAAAAAABy0/fGnMWZAEyF0/s64/photo.jpg",
      "userId": "15471468418524645217"
     },
     "user_tz": 420
    },
    "id": "QIpVvyfByYcN",
    "outputId": "49a50e9e-3f6e-4c9b-83ce-e92fe61398a8",
    "scrolled": true
   },
   "outputs": [],
   "source": [
    "#debug info\n",
    "#data.head()"
   ]
  },
  {
   "cell_type": "markdown",
   "metadata": {
    "colab": {},
    "colab_type": "code",
    "id": "kVf2HtuxyYcO"
   },
   "source": [
    "### X-Folder Contents"
   ]
  },
  {
   "cell_type": "code",
   "execution_count": 8,
   "metadata": {
    "ExecuteTime": {
     "end_time": "2020-08-04T18:34:06.696728Z",
     "start_time": "2020-08-04T18:34:06.693728Z"
    }
   },
   "outputs": [],
   "source": [
    "def extract_folder_contents(x: str) -> str:\n",
    "    if pd.isna(x):\n",
    "        return \"unknown\"\n",
    "    \n",
    "    try:\n",
    "        # Handle both forward and backward slashes\n",
    "        if '\\\\' in str(x):\n",
    "            return re.split(r'\\\\+', str(x))[-1].lower()\n",
    "        elif '/' in str(x):\n",
    "            return re.split(r'/+', str(x))[-1].lower()\n",
    "        else:\n",
    "            return str(x).lower()\n",
    "    except Exception:\n",
    "        return \"unknown\"\n",
    "\n",
    "data['X-Folder-split'] = data['X-Folder'].apply(extract_folder_contents)\n",
    "\n",
    "data['message_length'] = data['Message-Body'].str.len().fillna(0)\n",
    "\n",
    "columns_to_drop = ['file', 'X-From', 'X-Folder', 'X-To', 'employee']\n",
    "data = data.drop(columns_to_drop, axis=1, errors='ignore')"
   ]
  },
  {
   "cell_type": "code",
   "execution_count": null,
   "metadata": {},
   "outputs": [
    {
     "name": "stdout",
     "output_type": "stream",
     "text": [
      "Successfully saved preprocessed data\n"
     ]
    }
   ],
   "source": [
    "class MessageFeatureExtractor:\n",
    "\n",
    "    @staticmethod\n",
    "    def extract_message_features(df: pd.DataFrame) -> pd.DataFrame:\n",
    "\n",
    "        df = df.copy()\n",
    "\n",
    "        df['contains-cc'] = df.message.str.contains(r'X-cc: .+', na=False).astype(int)\n",
    "        df['contains-bcc'] = df.message.str.contains(r'X-bcc: .+', na=False).astype(int)\n",
    "        \n",
    "\n",
    "        df['has_attachments'] = df.message.str.contains(r'Content-Type: multipart', na=False).astype(int)\n",
    "        df['is_reply'] = df.message.str.contains(r'Re:', na=False).astype(int)\n",
    "        df['is_forward'] = df.message.str.contains(r'Fwd:', na=False).astype(int)\n",
    "        \n",
    "\n",
    "        if 'Date_datetime' in df.columns:\n",
    "\n",
    "            df['Date_datetime'] = pd.to_datetime(df['Date_datetime'], errors='coerce')\n",
    "            \n",
    "\n",
    "            df['hour'] = df['Date_datetime'].dt.hour.fillna(-1).astype(int)\n",
    "            df['is_business_hours'] = ((df['hour'] >= 9) & (df['hour'] <= 17)).astype(int)\n",
    "        else:\n",
    "            print(\"Warning: Date_datetime column not found. Skipping time-based features.\")\n",
    "            df['hour'] = -1\n",
    "            df['is_business_hours'] = 0\n",
    "        \n",
    "        \n",
    "        df['word_count'] = df['Message-Body'].str.split().str.len().fillna(0)\n",
    "        df['has_links'] = df['Message-Body'].str.contains(r'http[s]?://', na=False).astype(int)\n",
    "        \n",
    "        return df\n",
    "\n",
    "extractor = MessageFeatureExtractor()\n",
    "data = extractor.extract_message_features(data)\n",
    "\n",
    "try:\n",
    "    data.to_csv(os.path.join(CONFIG['dataset_directory'], \"preprocessed_data.csv\"), index=False)\n",
    "    print(\"Successfully saved preprocessed data\")\n",
    "except Exception as e:\n",
    "    print(f\"Error saving data: {str(e)}\")"
   ]
  },
  {
   "cell_type": "code",
   "execution_count": 10,
   "metadata": {
    "ExecuteTime": {
     "end_time": "2020-08-04T18:34:07.594961Z",
     "start_time": "2020-08-04T18:34:06.697728Z"
    },
    "colab": {
     "base_uri": "https://localhost:8080/",
     "height": 690
    },
    "colab_type": "code",
    "executionInfo": {
     "elapsed": 258920,
     "status": "ok",
     "timestamp": 1557214671924,
     "user": {
      "displayName": "Arjun Patel",
      "photoUrl": "https://lh5.googleusercontent.com/-BlLPIwYkZoQ/AAAAAAAAAAI/AAAAAAAABy0/fGnMWZAEyF0/s64/photo.jpg",
      "userId": "15471468418524645217"
     },
     "user_tz": 420
    },
    "id": "uEpUGdIL_VYy",
    "outputId": "b3f92b2e-dd4f-4840-93eb-66197bf14897"
   },
   "outputs": [
    {
     "name": "stdout",
     "output_type": "stream",
     "text": [
      "Message-ID: <15464986.1075855378456.JavaMail.evans@thyme>\n",
      "Date: Fri, 4 May 2001 13:51:00 -0700 (PDT)\n",
      "From: phillip.allen@enron.com\n",
      "To: john.lavorato@enron.com\n",
      "Subject: Re:\n",
      "Mime-Version: 1.0\n",
      "Content-Type: text/plain; charset=us-ascii\n",
      "Content-Transfer-Encoding: 7bit\n",
      "X-From: Phillip K Allen\n",
      "X-To: John J Lavorato <John J Lavorato/ENRON@enronXgate@ENRON>\n",
      "X-cc: \n",
      "X-bcc: \n",
      "X-Folder: \\Phillip_Allen_Jan2002_1\\Allen, Phillip K.\\'Sent Mail\n",
      "X-Origin: Allen-P\n",
      "X-FileName: pallen (Non-Privileged).pst\n",
      "\n",
      "Traveling to have a business meeting takes the fun out of the trip.  Especially if you have to prepare a presentation.  I would suggest holding the business plan meetings here then take a trip without any formal business meetings.  I would even try and get some honest opinions on whether a trip is even desired or necessary.\n",
      "\n",
      "As far as the business meetings, I think it would be more productive to try and stimulate discussions across the different groups about what is working and what is not.  Too often the presenter speaks and the others are quiet just waiting for their turn.   The meetings might be better if held in a round table discussion format.  \n",
      "\n",
      "My suggestion for where to go is Austin.  Play golf and rent a ski boat and jet ski's.  Flying somewhere takes too much time.\n",
      "\n"
     ]
    }
   ],
   "source": [
    "#Debug info + Exploration\n",
    "data.head()\n",
    "data.columns\n",
    "print(data['message'][1])"
   ]
  },
  {
   "cell_type": "markdown",
   "metadata": {
    "colab_type": "text",
    "id": "VesmiudwdnhA"
   },
   "source": [
    "## Creating Embedding"
   ]
  },
  {
   "cell_type": "code",
   "execution_count": 6,
   "metadata": {
    "ExecuteTime": {
     "end_time": "2020-08-04T21:08:02.746944Z",
     "start_time": "2020-08-04T21:07:44.907819Z"
    }
   },
   "outputs": [],
   "source": [
    "data = pd.read_csv(os.path.join(CONFIG['dataset_directory'], \"preprocessed_data.csv\"))"
   ]
  },
  {
   "cell_type": "code",
   "execution_count": 7,
   "metadata": {
    "ExecuteTime": {
     "end_time": "2020-08-04T21:08:02.791954Z",
     "start_time": "2020-08-04T21:08:02.747944Z"
    },
    "colab": {},
    "colab_type": "code",
    "id": "064OTXMjeqy6"
   },
   "outputs": [],
   "source": [
    "data2 = data.copy()"
   ]
  },
  {
   "cell_type": "code",
   "execution_count": 8,
   "metadata": {},
   "outputs": [
    {
     "name": "stderr",
     "output_type": "stream",
     "text": [
      "2025-08-04 17:27:10,589 - INFO - Loading model from siftmail/Models/GoogleNews-vectors-negative300.bin.gz\n",
      "2025-08-04 17:27:10,590 - INFO - loading projection weights from siftmail/Models/GoogleNews-vectors-negative300.bin.gz\n",
      "2025-08-04 17:27:32,538 - INFO - KeyedVectors lifecycle event {'msg': 'loaded (3000000, 300) matrix of type float32 from siftmail/Models/GoogleNews-vectors-negative300.bin.gz', 'binary': True, 'encoding': 'utf8', 'datetime': '2025-08-04T17:27:32.538080', 'gensim': '4.3.3', 'python': '3.10.12 (main, May 27 2025, 17:12:29) [GCC 11.4.0]', 'platform': 'Linux-6.6.87.2-microsoft-standard-WSL2-x86_64-with-glibc2.35', 'event': 'load_word2vec_format'}\n",
      "Creating embeddings: 100%|███████████████████████████████████████████████████████| 1747/1747 [00:00<00:00, 32519.47it/s]\n"
     ]
    }
   ],
   "source": [
    "class TextEmbedder:\n",
    "    \n",
    "    def __init__(self, model_path: str, embedding_dim: int = 300):\n",
    "        self.embedding_dim = embedding_dim\n",
    "        self.model = self._load_model(model_path)\n",
    "    \n",
    "    def _load_model(self, model_path: str):\n",
    "        try:\n",
    "            if os.path.exists(model_path):\n",
    "                logger.info(f\"Loading model from {model_path}\")\n",
    "                return KeyedVectors.load_word2vec_format(model_path, binary=True)\n",
    "            else:\n",
    "                logger.warning(f\"Model not found at {model_path}. Skipping embedding creation.\")\n",
    "                return None\n",
    "        except Exception as e:\n",
    "            logger.error(f\"Error loading model: {str(e)}\")\n",
    "            return None\n",
    "    \n",
    "    def remove_unnecessary_words(self, text: str) -> str:\n",
    "        if pd.isna(text):\n",
    "            return \"\"\n",
    "        \n",
    "        try:\n",
    "            tokenized = word_tokenize(text.lower())\n",
    "            add_to_stopwords = ['items', 'item', 'mails', 'mail', 'inboxes', 'inbox', 'threads', 'thread']\n",
    "            to_remove = set(stopwords.words('english') + add_to_stopwords)\n",
    "            cleaned = [word for word in tokenized if word not in to_remove]\n",
    "            return ' '.join(cleaned)\n",
    "        except Exception:\n",
    "            return \"\"\n",
    "    \n",
    "    def vector_rep(self, word: str) -> np.ndarray:\n",
    "        if self.model is None or word not in self.model.key_to_index:\n",
    "            return np.zeros(self.embedding_dim)\n",
    "        return self.model[word]\n",
    "    \n",
    "    def general_vector_rep(self, phrase: str) -> np.ndarray:\n",
    "        if not phrase or self.model is None:\n",
    "            return np.zeros(self.embedding_dim)\n",
    "        \n",
    "        tokenized = word_tokenize(phrase)\n",
    "        if len(tokenized) == 0:\n",
    "            return np.zeros(self.embedding_dim)\n",
    "        \n",
    "        vectors = []\n",
    "        for word in tokenized:\n",
    "            vectors.append(self.vector_rep(word))\n",
    "        \n",
    "        return np.mean(vectors, axis=0)\n",
    "    \n",
    "    def create_folder_embeddings(self, df: pd.DataFrame) -> pd.DataFrame:\n",
    "        if self.model is None:\n",
    "            logger.warning(\"Model not available. Skipping embedding creation.\")\n",
    "            return pd.DataFrame()\n",
    "        \n",
    "        df['X-Folder-split_cleaned'] = df['X-Folder-split'].apply(self.remove_unnecessary_words)\n",
    "        df['X-Folder-split_cleaned'] = df['X-Folder-split_cleaned'].apply(\n",
    "            lambda x: ''.join(c for c in x if c not in string.punctuation)\n",
    "        )\n",
    "        \n",
    "        unique_folders = df['X-Folder-split_cleaned'].unique()\n",
    "        embeddings = {}\n",
    "        \n",
    "        for folder in tqdm(unique_folders, desc=\"Creating embeddings\"):\n",
    "            embeddings[folder] = self.general_vector_rep(folder)\n",
    "        \n",
    "        return pd.DataFrame.from_dict(embeddings, orient='index')\n",
    "\n",
    "\n",
    "model_path = os.path.join(CONFIG['models_directory'], 'GoogleNews-vectors-negative300.bin.gz')\n",
    "embedder = TextEmbedder(model_path)\n",
    "\n",
    "if embedder.model is not None:\n",
    "    vec_folders = embedder.create_folder_embeddings(data2)\n",
    "    vec_folders.to_csv(os.path.join(CONFIG['dataset_directory'], \"vec_folders.csv\"))"
   ]
  },
  {
   "cell_type": "markdown",
   "metadata": {},
   "source": [
    "# Performing Clustering"
   ]
  },
  {
   "cell_type": "code",
   "execution_count": 14,
   "metadata": {
    "ExecuteTime": {
     "end_time": "2020-08-04T21:23:50.765395Z",
     "start_time": "2020-08-04T21:23:49.606104Z"
    },
    "colab": {
     "base_uri": "https://localhost:8080/",
     "height": 356
    },
    "colab_type": "code",
    "executionInfo": {
     "elapsed": 159773,
     "status": "ok",
     "timestamp": 1557215299684,
     "user": {
      "displayName": "Arjun Patel",
      "photoUrl": "https://lh5.googleusercontent.com/-BlLPIwYkZoQ/AAAAAAAAAAI/AAAAAAAABy0/fGnMWZAEyF0/s64/photo.jpg",
      "userId": "15471468418524645217"
     },
     "user_tz": 420
    },
    "id": "naKk2KMAehj6",
    "outputId": "2dafaaa3-1f8e-4cf3-8972-0eb00df81d30"
   },
   "outputs": [
    {
     "name": "stderr",
     "output_type": "stream",
     "text": [
      "Finding optimal clusters: 100%|█████████████████████████████████████████████████████████| 18/18 [00:19<00:00,  1.10s/it]\n"
     ]
    },
    {
     "data": {
      "image/png": "[encoded data removed]",
      "text/plain": [
       "<Figure size 1200x400 with 2 Axes>"
      ]
     },
     "metadata": {},
     "output_type": "display_data"
    },
    {
     "name": "stderr",
     "output_type": "stream",
     "text": [
      "2025-08-04 17:25:22,303 - INFO - Clustering completed with 10 clusters\n"
     ]
    }
   ],
   "source": [
    "class FolderClusterer:\n",
    "    \n",
    "    def __init__(self, n_clusters: int = 10):\n",
    "        self.n_clusters = n_clusters\n",
    "    \n",
    "    def find_optimal_clusters(self, data: np.ndarray, max_clusters: int = 20) -> int:\n",
    "        inertias = []\n",
    "        silhouette_scores = []\n",
    "        K_range = range(2, min(max_clusters, len(data)))\n",
    "        \n",
    "        for k in tqdm(K_range, desc=\"Finding optimal clusters\"):\n",
    "            kmeans = KMeans(n_clusters=k, random_state=42, n_init=10)\n",
    "            kmeans.fit(data)\n",
    "            inertias.append(kmeans.inertia_)\n",
    "            \n",
    "            if k > 1:\n",
    "                labels = kmeans.labels_\n",
    "                silhouette_scores.append(silhouette_score(data, labels))\n",
    "            else:\n",
    "                silhouette_scores.append(0)\n",
    "        \n",
    "        #Elbow Curve Plot\n",
    "        plt.figure(figsize=(12, 4))\n",
    "        plt.subplot(1, 2, 1)\n",
    "        plt.plot(K_range, inertias, 'bo-')\n",
    "        plt.xlabel('Number of Clusters')\n",
    "        plt.ylabel('Inertia')\n",
    "        plt.title('Elbow Method')\n",
    "        plt.subplot(1, 2, 2)\n",
    "        plt.plot(K_range, silhouette_scores, 'ro-')\n",
    "        plt.xlabel('Number of Clusters')\n",
    "        plt.ylabel('Silhouette Score')\n",
    "        plt.title('Silhouette Analysis')\n",
    "        plt.tight_layout()\n",
    "        plt.show()\n",
    "        return self.n_clusters\n",
    "    \n",
    "    def cluster_folders(self, embeddings_df: pd.DataFrame) -> Tuple[pd.DataFrame, KMeans]:\n",
    "        if embeddings_df.empty:\n",
    "            logger.warning(\"No embeddings available for clustering\")\n",
    "            return pd.DataFrame(), None\n",
    "        X = embeddings_df.values\n",
    "        scaler = StandardScaler()\n",
    "        X_scaled = scaler.fit_transform(X)\n",
    "        optimal_k = self.find_optimal_clusters(X_scaled)\n",
    "        kmeans = KMeans(n_clusters=optimal_k, random_state=42, n_init=10)\n",
    "        labels = kmeans.fit_predict(X_scaled)\n",
    "        results = embeddings_df.reset_index().rename(columns={'index': 'subject'})\n",
    "        results['label'] = labels\n",
    "        \n",
    "        logger.info(f\"Clustering completed with {optimal_k} clusters\")\n",
    "        return results, kmeans\n",
    "\n",
    "clusterer = FolderClusterer(n_clusters=10)\n",
    "if not vec_folders.empty:\n",
    "    clustered_folders, kmeans_model = clusterer.cluster_folders(vec_folders)\n",
    "    clustered_folders.to_csv(os.path.join(CONFIG['dataset_directory'], \"vec_folders_labels.csv\"), index=False)"
   ]
  },
  {
   "cell_type": "code",
   "execution_count": 16,
   "metadata": {
    "ExecuteTime": {
     "end_time": "2020-08-04T21:23:58.730195Z",
     "start_time": "2020-08-04T21:23:58.709199Z"
    }
   },
   "outputs": [
    {
     "data": {
      "text/html": [
       "<div>\n",
       "<style scoped>\n",
       "    .dataframe tbody tr th:only-of-type {\n",
       "        vertical-align: middle;\n",
       "    }\n",
       "\n",
       "    .dataframe tbody tr th {\n",
       "        vertical-align: top;\n",
       "    }\n",
       "\n",
       "    .dataframe thead th {\n",
       "        text-align: right;\n",
       "    }\n",
       "</style>\n",
       "<table border=\"1\" class=\"dataframe\">\n",
       "  <thead>\n",
       "    <tr style=\"text-align: right;\">\n",
       "      <th></th>\n",
       "      <th>0</th>\n",
       "      <th>1</th>\n",
       "      <th>2</th>\n",
       "      <th>3</th>\n",
       "      <th>4</th>\n",
       "      <th>5</th>\n",
       "      <th>6</th>\n",
       "      <th>7</th>\n",
       "      <th>8</th>\n",
       "      <th>9</th>\n",
       "      <th>...</th>\n",
       "      <th>290</th>\n",
       "      <th>291</th>\n",
       "      <th>292</th>\n",
       "      <th>293</th>\n",
       "      <th>294</th>\n",
       "      <th>295</th>\n",
       "      <th>296</th>\n",
       "      <th>297</th>\n",
       "      <th>298</th>\n",
       "      <th>299</th>\n",
       "    </tr>\n",
       "  </thead>\n",
       "  <tbody>\n",
       "    <tr>\n",
       "      <th>sent</th>\n",
       "      <td>-0.017090</td>\n",
       "      <td>0.021729</td>\n",
       "      <td>0.225586</td>\n",
       "      <td>-0.129883</td>\n",
       "      <td>-0.199219</td>\n",
       "      <td>-0.107910</td>\n",
       "      <td>-0.184570</td>\n",
       "      <td>-0.083984</td>\n",
       "      <td>0.004974</td>\n",
       "      <td>0.111328</td>\n",
       "      <td>...</td>\n",
       "      <td>-0.148438</td>\n",
       "      <td>-0.283203</td>\n",
       "      <td>-0.051758</td>\n",
       "      <td>0.112305</td>\n",
       "      <td>0.267578</td>\n",
       "      <td>0.059082</td>\n",
       "      <td>0.144531</td>\n",
       "      <td>-0.091309</td>\n",
       "      <td>-0.069824</td>\n",
       "      <td>-0.021606</td>\n",
       "    </tr>\n",
       "    <tr>\n",
       "      <th>documents</th>\n",
       "      <td>0.097656</td>\n",
       "      <td>0.063965</td>\n",
       "      <td>0.024658</td>\n",
       "      <td>-0.151367</td>\n",
       "      <td>-0.032471</td>\n",
       "      <td>0.110352</td>\n",
       "      <td>0.044678</td>\n",
       "      <td>0.195312</td>\n",
       "      <td>0.089844</td>\n",
       "      <td>-0.285156</td>\n",
       "      <td>...</td>\n",
       "      <td>0.099121</td>\n",
       "      <td>-0.245117</td>\n",
       "      <td>-0.113770</td>\n",
       "      <td>0.026367</td>\n",
       "      <td>-0.156250</td>\n",
       "      <td>0.119141</td>\n",
       "      <td>0.073730</td>\n",
       "      <td>-0.292969</td>\n",
       "      <td>-0.035889</td>\n",
       "      <td>0.032959</td>\n",
       "    </tr>\n",
       "    <tr>\n",
       "      <th>contacts</th>\n",
       "      <td>0.074219</td>\n",
       "      <td>0.001274</td>\n",
       "      <td>0.065918</td>\n",
       "      <td>-0.086914</td>\n",
       "      <td>-0.070801</td>\n",
       "      <td>0.249023</td>\n",
       "      <td>-0.320312</td>\n",
       "      <td>-0.174805</td>\n",
       "      <td>0.091797</td>\n",
       "      <td>-0.052734</td>\n",
       "      <td>...</td>\n",
       "      <td>0.022583</td>\n",
       "      <td>0.097656</td>\n",
       "      <td>0.023071</td>\n",
       "      <td>-0.063965</td>\n",
       "      <td>0.114258</td>\n",
       "      <td>0.015869</td>\n",
       "      <td>0.416016</td>\n",
       "      <td>-0.140625</td>\n",
       "      <td>-0.050537</td>\n",
       "      <td>-0.033447</td>\n",
       "    </tr>\n",
       "    <tr>\n",
       "      <th>deleted</th>\n",
       "      <td>-0.172852</td>\n",
       "      <td>-0.047852</td>\n",
       "      <td>0.316406</td>\n",
       "      <td>0.145508</td>\n",
       "      <td>-0.220703</td>\n",
       "      <td>0.009521</td>\n",
       "      <td>-0.028076</td>\n",
       "      <td>0.216797</td>\n",
       "      <td>0.507812</td>\n",
       "      <td>0.092285</td>\n",
       "      <td>...</td>\n",
       "      <td>0.181641</td>\n",
       "      <td>0.076660</td>\n",
       "      <td>0.363281</td>\n",
       "      <td>-0.200195</td>\n",
       "      <td>0.287109</td>\n",
       "      <td>-0.263672</td>\n",
       "      <td>0.196289</td>\n",
       "      <td>-0.361328</td>\n",
       "      <td>-0.050537</td>\n",
       "      <td>-0.070801</td>\n",
       "    </tr>\n",
       "    <tr>\n",
       "      <th>discussion</th>\n",
       "      <td>-0.039062</td>\n",
       "      <td>0.042236</td>\n",
       "      <td>0.014465</td>\n",
       "      <td>0.115234</td>\n",
       "      <td>0.132812</td>\n",
       "      <td>-0.101074</td>\n",
       "      <td>0.164062</td>\n",
       "      <td>-0.100098</td>\n",
       "      <td>0.123535</td>\n",
       "      <td>0.005585</td>\n",
       "      <td>...</td>\n",
       "      <td>-0.011292</td>\n",
       "      <td>-0.175781</td>\n",
       "      <td>0.326172</td>\n",
       "      <td>0.152344</td>\n",
       "      <td>0.042236</td>\n",
       "      <td>-0.011536</td>\n",
       "      <td>-0.125000</td>\n",
       "      <td>-0.229492</td>\n",
       "      <td>-0.112305</td>\n",
       "      <td>-0.158203</td>\n",
       "    </tr>\n",
       "  </tbody>\n",
       "</table>\n",
       "<p>5 rows × 300 columns</p>\n",
       "</div>"
      ],
      "text/plain": [
       "                 0         1         2         3         4         5    \\\n",
       "sent       -0.017090  0.021729  0.225586 -0.129883 -0.199219 -0.107910   \n",
       "documents   0.097656  0.063965  0.024658 -0.151367 -0.032471  0.110352   \n",
       "contacts    0.074219  0.001274  0.065918 -0.086914 -0.070801  0.249023   \n",
       "deleted    -0.172852 -0.047852  0.316406  0.145508 -0.220703  0.009521   \n",
       "discussion -0.039062  0.042236  0.014465  0.115234  0.132812 -0.101074   \n",
       "\n",
       "                 6         7         8         9    ...       290       291  \\\n",
       "sent       -0.184570 -0.083984  0.004974  0.111328  ... -0.148438 -0.283203   \n",
       "documents   0.044678  0.195312  0.089844 -0.285156  ...  0.099121 -0.245117   \n",
       "contacts   -0.320312 -0.174805  0.091797 -0.052734  ...  0.022583  0.097656   \n",
       "deleted    -0.028076  0.216797  0.507812  0.092285  ...  0.181641  0.076660   \n",
       "discussion  0.164062 -0.100098  0.123535  0.005585  ... -0.011292 -0.175781   \n",
       "\n",
       "                 292       293       294       295       296       297  \\\n",
       "sent       -0.051758  0.112305  0.267578  0.059082  0.144531 -0.091309   \n",
       "documents  -0.113770  0.026367 -0.156250  0.119141  0.073730 -0.292969   \n",
       "contacts    0.023071 -0.063965  0.114258  0.015869  0.416016 -0.140625   \n",
       "deleted     0.363281 -0.200195  0.287109 -0.263672  0.196289 -0.361328   \n",
       "discussion  0.326172  0.152344  0.042236 -0.011536 -0.125000 -0.229492   \n",
       "\n",
       "                 298       299  \n",
       "sent       -0.069824 -0.021606  \n",
       "documents  -0.035889  0.032959  \n",
       "contacts   -0.050537 -0.033447  \n",
       "deleted    -0.050537 -0.070801  \n",
       "discussion -0.112305 -0.158203  \n",
       "\n",
       "[5 rows x 300 columns]"
      ]
     },
     "execution_count": 16,
     "metadata": {},
     "output_type": "execute_result"
    }
   ],
   "source": [
    "vec_folders.head()"
   ]
  },
  {
   "cell_type": "code",
   "execution_count": 20,
   "metadata": {
    "ExecuteTime": {
     "end_time": "2020-08-04T21:57:50.056413Z",
     "start_time": "2020-08-04T21:57:50.043419Z"
    }
   },
   "outputs": [
    {
     "data": {
      "text/html": [
       "<div>\n",
       "<style scoped>\n",
       "    .dataframe tbody tr th:only-of-type {\n",
       "        vertical-align: middle;\n",
       "    }\n",
       "\n",
       "    .dataframe tbody tr th {\n",
       "        vertical-align: top;\n",
       "    }\n",
       "\n",
       "    .dataframe thead th {\n",
       "        text-align: right;\n",
       "    }\n",
       "</style>\n",
       "<table border=\"1\" class=\"dataframe\">\n",
       "  <thead>\n",
       "    <tr style=\"text-align: right;\">\n",
       "      <th></th>\n",
       "      <th>message</th>\n",
       "      <th>Date</th>\n",
       "      <th>Subject</th>\n",
       "      <th>Message-Body</th>\n",
       "      <th>Date_datetime</th>\n",
       "      <th>Day_of_week</th>\n",
       "      <th>X-Folder-split</th>\n",
       "      <th>message_length</th>\n",
       "      <th>contains-cc</th>\n",
       "      <th>contains-bcc</th>\n",
       "      <th>has_attachments</th>\n",
       "      <th>is_reply</th>\n",
       "      <th>is_forward</th>\n",
       "      <th>hour</th>\n",
       "      <th>is_business_hours</th>\n",
       "      <th>word_count</th>\n",
       "      <th>has_links</th>\n",
       "      <th>X-Folder-split_cleaned</th>\n",
       "    </tr>\n",
       "  </thead>\n",
       "  <tbody>\n",
       "    <tr>\n",
       "      <th>0</th>\n",
       "      <td>Message-ID: &lt;18782981.1075855378110.JavaMail.e...</td>\n",
       "      <td>Mon, 14 May 2001 16:39:00 -0700 (PDT)</td>\n",
       "      <td>NaN</td>\n",
       "      <td>here is our forecast</td>\n",
       "      <td>2001-05-14 16:39:00</td>\n",
       "      <td>Mon</td>\n",
       "      <td>'sent mail</td>\n",
       "      <td>20</td>\n",
       "      <td>0</td>\n",
       "      <td>0</td>\n",
       "      <td>0</td>\n",
       "      <td>0</td>\n",
       "      <td>0</td>\n",
       "      <td>16</td>\n",
       "      <td>1</td>\n",
       "      <td>4</td>\n",
       "      <td>0</td>\n",
       "      <td>sent</td>\n",
       "    </tr>\n",
       "    <tr>\n",
       "      <th>1</th>\n",
       "      <td>Message-ID: &lt;15464986.1075855378456.JavaMail.e...</td>\n",
       "      <td>Fri, 4 May 2001 13:51:00 -0700 (PDT)</td>\n",
       "      <td>Re:</td>\n",
       "      <td>traveling to have a business meeting takes the...</td>\n",
       "      <td>2001-05-04 13:51:00</td>\n",
       "      <td>Fri</td>\n",
       "      <td>'sent mail</td>\n",
       "      <td>785</td>\n",
       "      <td>0</td>\n",
       "      <td>0</td>\n",
       "      <td>0</td>\n",
       "      <td>1</td>\n",
       "      <td>0</td>\n",
       "      <td>13</td>\n",
       "      <td>1</td>\n",
       "      <td>139</td>\n",
       "      <td>0</td>\n",
       "      <td>sent</td>\n",
       "    </tr>\n",
       "    <tr>\n",
       "      <th>2</th>\n",
       "      <td>Message-ID: &lt;24216240.1075855687451.JavaMail.e...</td>\n",
       "      <td>Wed, 18 Oct 2000 03:00:00 -0700 (PDT)</td>\n",
       "      <td>Re: test</td>\n",
       "      <td>test successful.  way to go!!!</td>\n",
       "      <td>2000-10-18 03:00:00</td>\n",
       "      <td>Wed</td>\n",
       "      <td>'sent mail</td>\n",
       "      <td>30</td>\n",
       "      <td>0</td>\n",
       "      <td>0</td>\n",
       "      <td>0</td>\n",
       "      <td>1</td>\n",
       "      <td>0</td>\n",
       "      <td>3</td>\n",
       "      <td>0</td>\n",
       "      <td>5</td>\n",
       "      <td>0</td>\n",
       "      <td>sent</td>\n",
       "    </tr>\n",
       "    <tr>\n",
       "      <th>3</th>\n",
       "      <td>Message-ID: &lt;13505866.1075863688222.JavaMail.e...</td>\n",
       "      <td>Mon, 23 Oct 2000 06:13:00 -0700 (PDT)</td>\n",
       "      <td>NaN</td>\n",
       "      <td>randy,\\n\\n can you send me a schedule of the s...</td>\n",
       "      <td>2000-10-23 06:13:00</td>\n",
       "      <td>Mon</td>\n",
       "      <td>'sent mail</td>\n",
       "      <td>187</td>\n",
       "      <td>0</td>\n",
       "      <td>0</td>\n",
       "      <td>0</td>\n",
       "      <td>0</td>\n",
       "      <td>0</td>\n",
       "      <td>6</td>\n",
       "      <td>0</td>\n",
       "      <td>34</td>\n",
       "      <td>0</td>\n",
       "      <td>sent</td>\n",
       "    </tr>\n",
       "    <tr>\n",
       "      <th>4</th>\n",
       "      <td>Message-ID: &lt;30922949.1075863688243.JavaMail.e...</td>\n",
       "      <td>Thu, 31 Aug 2000 05:07:00 -0700 (PDT)</td>\n",
       "      <td>Re: Hello</td>\n",
       "      <td>let's shoot for tuesday at 11:45.</td>\n",
       "      <td>2000-08-31 05:07:00</td>\n",
       "      <td>Thu</td>\n",
       "      <td>'sent mail</td>\n",
       "      <td>33</td>\n",
       "      <td>0</td>\n",
       "      <td>0</td>\n",
       "      <td>0</td>\n",
       "      <td>1</td>\n",
       "      <td>0</td>\n",
       "      <td>5</td>\n",
       "      <td>0</td>\n",
       "      <td>6</td>\n",
       "      <td>0</td>\n",
       "      <td>sent</td>\n",
       "    </tr>\n",
       "  </tbody>\n",
       "</table>\n",
       "</div>"
      ],
      "text/plain": [
       "                                             message  \\\n",
       "0  Message-ID: <18782981.1075855378110.JavaMail.e...   \n",
       "1  Message-ID: <15464986.1075855378456.JavaMail.e...   \n",
       "2  Message-ID: <24216240.1075855687451.JavaMail.e...   \n",
       "3  Message-ID: <13505866.1075863688222.JavaMail.e...   \n",
       "4  Message-ID: <30922949.1075863688243.JavaMail.e...   \n",
       "\n",
       "                                    Date    Subject  \\\n",
       "0  Mon, 14 May 2001 16:39:00 -0700 (PDT)        NaN   \n",
       "1   Fri, 4 May 2001 13:51:00 -0700 (PDT)        Re:   \n",
       "2  Wed, 18 Oct 2000 03:00:00 -0700 (PDT)   Re: test   \n",
       "3  Mon, 23 Oct 2000 06:13:00 -0700 (PDT)        NaN   \n",
       "4  Thu, 31 Aug 2000 05:07:00 -0700 (PDT)  Re: Hello   \n",
       "\n",
       "                                        Message-Body        Date_datetime  \\\n",
       "0                               here is our forecast  2001-05-14 16:39:00   \n",
       "1  traveling to have a business meeting takes the...  2001-05-04 13:51:00   \n",
       "2                     test successful.  way to go!!!  2000-10-18 03:00:00   \n",
       "3  randy,\\n\\n can you send me a schedule of the s...  2000-10-23 06:13:00   \n",
       "4                  let's shoot for tuesday at 11:45.  2000-08-31 05:07:00   \n",
       "\n",
       "  Day_of_week X-Folder-split  message_length  contains-cc  contains-bcc  \\\n",
       "0         Mon     'sent mail              20            0             0   \n",
       "1         Fri     'sent mail             785            0             0   \n",
       "2         Wed     'sent mail              30            0             0   \n",
       "3         Mon     'sent mail             187            0             0   \n",
       "4         Thu     'sent mail              33            0             0   \n",
       "\n",
       "   has_attachments  is_reply  is_forward  hour  is_business_hours  word_count  \\\n",
       "0                0         0           0    16                  1           4   \n",
       "1                0         1           0    13                  1         139   \n",
       "2                0         1           0     3                  0           5   \n",
       "3                0         0           0     6                  0          34   \n",
       "4                0         1           0     5                  0           6   \n",
       "\n",
       "   has_links X-Folder-split_cleaned  \n",
       "0          0                   sent  \n",
       "1          0                   sent  \n",
       "2          0                   sent  \n",
       "3          0                   sent  \n",
       "4          0                   sent  "
      ]
     },
     "execution_count": 20,
     "metadata": {},
     "output_type": "execute_result"
    }
   ],
   "source": [
    "data2.head()"
   ]
  },
  {
   "cell_type": "markdown",
   "metadata": {
    "colab_type": "text",
    "id": "H3mXfCf5dq69"
   },
   "source": [
    "## Joining Clustering Results with Main DF"
   ]
  },
  {
   "cell_type": "code",
   "execution_count": 12,
   "metadata": {
    "colab": {},
    "colab_type": "code",
    "id": "4tkoagYtfw3T"
   },
   "outputs": [],
   "source": [
    "def merge_and_filter_data(data: pd.DataFrame, labels_df: pd.DataFrame) -> pd.DataFrame:\n",
    "    merged_data = data.merge(\n",
    "        right=labels_df[['subject', 'label']],\n",
    "        how='left',\n",
    "        left_on='X-Folder-split_cleaned',\n",
    "        right_on='subject'\n",
    "    )\n",
    "    merge_stats = {\n",
    "        'total_rows': len(data),\n",
    "        'matched_rows': merged_data['label'].notna().sum(),\n",
    "        'unmatched_rows': merged_data['label'].isna().sum(),\n",
    "        'match_rate': merged_data['label'].notna().mean()\n",
    "    }\n",
    "    \n",
    "    logger.info(f\"Merge statistics: {merge_stats}\")\n",
    "\n",
    "    labels_to_exclude = [1, 2]\n",
    "    filtered_data = merged_data[~merged_data['label'].isin(labels_to_exclude)]\n",
    "    \n",
    "    logger.info(f\"Filtered data shape: {filtered_data.shape}\")\n",
    "    return filtered_data\n",
    "\n",
    "\n",
    "data_filtered = data2.copy()"
   ]
  },
  {
   "cell_type": "code",
   "execution_count": 9,
   "metadata": {},
   "outputs": [
    {
     "name": "stderr",
     "output_type": "stream",
     "text": [
      "2025-08-04 17:28:08,845 - INFO - Creating embedded dataset...\n",
      "2025-08-04 17:41:20,194 - INFO - Embedded dataset created: (517401, 318)\n",
      "2025-08-04 17:41:20,196 - INFO - Matched folders: 517401/517401 (100.00%)\n",
      "2025-08-04 17:42:23,634 - INFO - Embedded dataset saved to: siftmail/Datasets/Embedded_Dataset.csv\n"
     ]
    },
    {
     "name": "stdout",
     "output_type": "stream",
     "text": [
      "Embedded dataset shape: (517401, 318)\n"
     ]
    }
   ],
   "source": [
    "# Create and save embedded dataset\n",
    "def create_embedded_dataset(data: pd.DataFrame, vec_folders: pd.DataFrame) -> pd.DataFrame:\n",
    "    \"\"\"\n",
    "    Create embedded dataset by combining preprocessed data with folder embeddings.\n",
    "    \n",
    "    Args:\n",
    "        data: Preprocessed email data\n",
    "        vec_folders: DataFrame with folder embeddings\n",
    "    \n",
    "    Returns:\n",
    "        DataFrame with embedded features\n",
    "    \"\"\"\n",
    "    logger.info(\"Creating embedded dataset...\")\n",
    "\n",
    "    folder_embeddings = {}\n",
    "    for folder_name in vec_folders.index:\n",
    "        folder_embeddings[folder_name] = vec_folders.loc[folder_name].values\n",
    "    embedded_data = data.copy()\n",
    "    embedding_dim = len(vec_folders.columns)\n",
    "    embedding_columns = [f'embedding_{i}' for i in range(embedding_dim)]\n",
    "    for col in embedding_columns:\n",
    "        embedded_data[col] = 0.0\n",
    "\n",
    "    matched_count = 0\n",
    "    for idx, row in embedded_data.iterrows():\n",
    "        folder_name = row.get('X-Folder-split_cleaned', '')\n",
    "        if folder_name in folder_embeddings:\n",
    "            embedding = folder_embeddings[folder_name]\n",
    "            for i, col in enumerate(embedding_columns):\n",
    "                embedded_data.at[idx, col] = embedding[i]\n",
    "            matched_count += 1\n",
    "    \n",
    "    logger.info(f\"Embedded dataset created: {embedded_data.shape}\")\n",
    "    logger.info(f\"Matched folders: {matched_count}/{len(embedded_data)} ({matched_count/len(embedded_data)*100:.2f}%)\")\n",
    "    \n",
    "    return embedded_data\n",
    "\n",
    "if not vec_folders.empty:\n",
    "    embedded_dataset = create_embedded_dataset(data2, vec_folders)\n",
    "\n",
    "    embedded_path = os.path.join(CONFIG['dataset_directory'], \"Embedded_Dataset.csv\")\n",
    "    try:\n",
    "        embedded_dataset.to_csv(embedded_path, index=False)\n",
    "        logger.info(f\"Embedded dataset saved to: {embedded_path}\")\n",
    "        print(f\"Embedded dataset shape: {embedded_dataset.shape}\")\n",
    "    except Exception as e:\n",
    "        logger.error(f\"Error saving embedded dataset: {str(e)}\")\n",
    "else:\n",
    "    logger.warning(\"No folder embeddings available. Skipping embedded dataset creation.\")"
   ]
  },
  {
   "cell_type": "markdown",
   "metadata": {
    "colab_type": "text",
    "id": "rDb8QODER7T5"
   },
   "source": [
    "### Finalizing the dataset\n",
    "Transform categorical values, validating data quality, and etc"
   ]
  },
  {
   "cell_type": "code",
   "execution_count": 13,
   "metadata": {},
   "outputs": [
    {
     "name": "stderr",
     "output_type": "stream",
     "text": [
      "2025-08-04 17:43:22,863 - INFO - Dataset quality summary: {'total_rows': 517401, 'total_columns': 25, 'missing_values': 19458, 'duplicate_rows': 0, 'memory_usage_mb': 2397.1760749816895}\n",
      "2025-08-04 17:43:40,068 - INFO - Loaded embedded dataset: (517401, 318)\n"
     ]
    },
    {
     "name": "stdout",
     "output_type": "stream",
     "text": [
      "Final dataset shape: (517401, 25)\n",
      "Embedded dataset shape: (517401, 318)\n"
     ]
    }
   ],
   "source": [
    "def finalize_dataset(df: pd.DataFrame) -> pd.DataFrame:\n",
    "    \"\"\"Finalize dataset with one-hot encoding and quality checks.\"\"\"\n",
    "    df = df.copy()\n",
    "    if 'Day_of_week' in df.columns:\n",
    "        day_dummies = pd.get_dummies(df['Day_of_week'], prefix='Day=')\n",
    "        df = pd.concat([df, day_dummies], axis=1)\n",
    "        \n",
    "    quality_summary = {\n",
    "        'total_rows': len(df),\n",
    "        'total_columns': len(df.columns),\n",
    "        'missing_values': df.isnull().sum().sum(),\n",
    "        'duplicate_rows': df.duplicated().sum(),\n",
    "        'memory_usage_mb': df.memory_usage(deep=True).sum() / 1024**2\n",
    "    }\n",
    "    \n",
    "    logger.info(f\"Dataset quality summary: {quality_summary}\")\n",
    "    \n",
    "    return df\n",
    "\n",
    "data_filtered = finalize_dataset(data_filtered)\n",
    "\n",
    "embedded_path = os.path.join(CONFIG['dataset_directory'], \"Embedded_Dataset.csv\")\n",
    "if os.path.exists(embedded_path):\n",
    "    embedded_df = pd.read_csv(embedded_path)\n",
    "    logger.info(f\"Loaded embedded dataset: {embedded_df.shape}\")\n",
    "else:\n",
    "    logger.warning(\"Embedded dataset not found\")\n",
    "    embedded_df = pd.DataFrame()\n",
    "\n",
    "print(f\"Final dataset shape: {data_filtered.shape}\")\n",
    "print(f\"Embedded dataset shape: {embedded_df.shape}\")"
   ]
  },
  {
   "cell_type": "code",
   "execution_count": 14,
   "metadata": {
    "colab": {
     "base_uri": "https://localhost:8080/",
     "height": 269
    },
    "colab_type": "code",
    "executionInfo": {
     "elapsed": 1676,
     "status": "ok",
     "timestamp": 1557216522905,
     "user": {
      "displayName": "Arjun Patel",
      "photoUrl": "https://lh5.googleusercontent.com/-BlLPIwYkZoQ/AAAAAAAAAAI/AAAAAAAABy0/fGnMWZAEyF0/s64/photo.jpg",
      "userId": "15471468418524645217"
     },
     "user_tz": 420
    },
    "id": "Tr4iU_sXaMzu",
    "outputId": "be8644f2-a9f1-4068-f47f-417188348cf5"
   },
   "outputs": [
    {
     "data": {
      "text/html": [
       "<div>\n",
       "<style scoped>\n",
       "    .dataframe tbody tr th:only-of-type {\n",
       "        vertical-align: middle;\n",
       "    }\n",
       "\n",
       "    .dataframe tbody tr th {\n",
       "        vertical-align: top;\n",
       "    }\n",
       "\n",
       "    .dataframe thead th {\n",
       "        text-align: right;\n",
       "    }\n",
       "</style>\n",
       "<table border=\"1\" class=\"dataframe\">\n",
       "  <thead>\n",
       "    <tr style=\"text-align: right;\">\n",
       "      <th></th>\n",
       "      <th>message</th>\n",
       "      <th>Date</th>\n",
       "      <th>Subject</th>\n",
       "      <th>Message-Body</th>\n",
       "      <th>Date_datetime</th>\n",
       "      <th>Day_of_week</th>\n",
       "      <th>X-Folder-split</th>\n",
       "      <th>message_length</th>\n",
       "      <th>contains-cc</th>\n",
       "      <th>contains-bcc</th>\n",
       "      <th>...</th>\n",
       "      <th>embedding_290</th>\n",
       "      <th>embedding_291</th>\n",
       "      <th>embedding_292</th>\n",
       "      <th>embedding_293</th>\n",
       "      <th>embedding_294</th>\n",
       "      <th>embedding_295</th>\n",
       "      <th>embedding_296</th>\n",
       "      <th>embedding_297</th>\n",
       "      <th>embedding_298</th>\n",
       "      <th>embedding_299</th>\n",
       "    </tr>\n",
       "  </thead>\n",
       "  <tbody>\n",
       "    <tr>\n",
       "      <th>0</th>\n",
       "      <td>Message-ID: &lt;18782981.1075855378110.JavaMail.e...</td>\n",
       "      <td>Mon, 14 May 2001 16:39:00 -0700 (PDT)</td>\n",
       "      <td>NaN</td>\n",
       "      <td>here is our forecast</td>\n",
       "      <td>2001-05-14 16:39:00</td>\n",
       "      <td>Mon</td>\n",
       "      <td>'sent mail</td>\n",
       "      <td>20</td>\n",
       "      <td>0</td>\n",
       "      <td>0</td>\n",
       "      <td>...</td>\n",
       "      <td>-0.148438</td>\n",
       "      <td>-0.283203</td>\n",
       "      <td>-0.051758</td>\n",
       "      <td>0.112305</td>\n",
       "      <td>0.267578</td>\n",
       "      <td>0.059082</td>\n",
       "      <td>0.144531</td>\n",
       "      <td>-0.091309</td>\n",
       "      <td>-0.069824</td>\n",
       "      <td>-0.021606</td>\n",
       "    </tr>\n",
       "    <tr>\n",
       "      <th>1</th>\n",
       "      <td>Message-ID: &lt;15464986.1075855378456.JavaMail.e...</td>\n",
       "      <td>Fri, 4 May 2001 13:51:00 -0700 (PDT)</td>\n",
       "      <td>Re:</td>\n",
       "      <td>traveling to have a business meeting takes the...</td>\n",
       "      <td>2001-05-04 13:51:00</td>\n",
       "      <td>Fri</td>\n",
       "      <td>'sent mail</td>\n",
       "      <td>785</td>\n",
       "      <td>0</td>\n",
       "      <td>0</td>\n",
       "      <td>...</td>\n",
       "      <td>-0.148438</td>\n",
       "      <td>-0.283203</td>\n",
       "      <td>-0.051758</td>\n",
       "      <td>0.112305</td>\n",
       "      <td>0.267578</td>\n",
       "      <td>0.059082</td>\n",
       "      <td>0.144531</td>\n",
       "      <td>-0.091309</td>\n",
       "      <td>-0.069824</td>\n",
       "      <td>-0.021606</td>\n",
       "    </tr>\n",
       "    <tr>\n",
       "      <th>2</th>\n",
       "      <td>Message-ID: &lt;24216240.1075855687451.JavaMail.e...</td>\n",
       "      <td>Wed, 18 Oct 2000 03:00:00 -0700 (PDT)</td>\n",
       "      <td>Re: test</td>\n",
       "      <td>test successful.  way to go!!!</td>\n",
       "      <td>2000-10-18 03:00:00</td>\n",
       "      <td>Wed</td>\n",
       "      <td>'sent mail</td>\n",
       "      <td>30</td>\n",
       "      <td>0</td>\n",
       "      <td>0</td>\n",
       "      <td>...</td>\n",
       "      <td>-0.148438</td>\n",
       "      <td>-0.283203</td>\n",
       "      <td>-0.051758</td>\n",
       "      <td>0.112305</td>\n",
       "      <td>0.267578</td>\n",
       "      <td>0.059082</td>\n",
       "      <td>0.144531</td>\n",
       "      <td>-0.091309</td>\n",
       "      <td>-0.069824</td>\n",
       "      <td>-0.021606</td>\n",
       "    </tr>\n",
       "    <tr>\n",
       "      <th>3</th>\n",
       "      <td>Message-ID: &lt;13505866.1075863688222.JavaMail.e...</td>\n",
       "      <td>Mon, 23 Oct 2000 06:13:00 -0700 (PDT)</td>\n",
       "      <td>NaN</td>\n",
       "      <td>randy,\\n\\n can you send me a schedule of the s...</td>\n",
       "      <td>2000-10-23 06:13:00</td>\n",
       "      <td>Mon</td>\n",
       "      <td>'sent mail</td>\n",
       "      <td>187</td>\n",
       "      <td>0</td>\n",
       "      <td>0</td>\n",
       "      <td>...</td>\n",
       "      <td>-0.148438</td>\n",
       "      <td>-0.283203</td>\n",
       "      <td>-0.051758</td>\n",
       "      <td>0.112305</td>\n",
       "      <td>0.267578</td>\n",
       "      <td>0.059082</td>\n",
       "      <td>0.144531</td>\n",
       "      <td>-0.091309</td>\n",
       "      <td>-0.069824</td>\n",
       "      <td>-0.021606</td>\n",
       "    </tr>\n",
       "    <tr>\n",
       "      <th>4</th>\n",
       "      <td>Message-ID: &lt;30922949.1075863688243.JavaMail.e...</td>\n",
       "      <td>Thu, 31 Aug 2000 05:07:00 -0700 (PDT)</td>\n",
       "      <td>Re: Hello</td>\n",
       "      <td>let's shoot for tuesday at 11:45.</td>\n",
       "      <td>2000-08-31 05:07:00</td>\n",
       "      <td>Thu</td>\n",
       "      <td>'sent mail</td>\n",
       "      <td>33</td>\n",
       "      <td>0</td>\n",
       "      <td>0</td>\n",
       "      <td>...</td>\n",
       "      <td>-0.148438</td>\n",
       "      <td>-0.283203</td>\n",
       "      <td>-0.051758</td>\n",
       "      <td>0.112305</td>\n",
       "      <td>0.267578</td>\n",
       "      <td>0.059082</td>\n",
       "      <td>0.144531</td>\n",
       "      <td>-0.091309</td>\n",
       "      <td>-0.069824</td>\n",
       "      <td>-0.021606</td>\n",
       "    </tr>\n",
       "  </tbody>\n",
       "</table>\n",
       "<p>5 rows × 318 columns</p>\n",
       "</div>"
      ],
      "text/plain": [
       "                                             message  \\\n",
       "0  Message-ID: <18782981.1075855378110.JavaMail.e...   \n",
       "1  Message-ID: <15464986.1075855378456.JavaMail.e...   \n",
       "2  Message-ID: <24216240.1075855687451.JavaMail.e...   \n",
       "3  Message-ID: <13505866.1075863688222.JavaMail.e...   \n",
       "4  Message-ID: <30922949.1075863688243.JavaMail.e...   \n",
       "\n",
       "                                    Date    Subject  \\\n",
       "0  Mon, 14 May 2001 16:39:00 -0700 (PDT)        NaN   \n",
       "1   Fri, 4 May 2001 13:51:00 -0700 (PDT)        Re:   \n",
       "2  Wed, 18 Oct 2000 03:00:00 -0700 (PDT)   Re: test   \n",
       "3  Mon, 23 Oct 2000 06:13:00 -0700 (PDT)        NaN   \n",
       "4  Thu, 31 Aug 2000 05:07:00 -0700 (PDT)  Re: Hello   \n",
       "\n",
       "                                        Message-Body        Date_datetime  \\\n",
       "0                               here is our forecast  2001-05-14 16:39:00   \n",
       "1  traveling to have a business meeting takes the...  2001-05-04 13:51:00   \n",
       "2                     test successful.  way to go!!!  2000-10-18 03:00:00   \n",
       "3  randy,\\n\\n can you send me a schedule of the s...  2000-10-23 06:13:00   \n",
       "4                  let's shoot for tuesday at 11:45.  2000-08-31 05:07:00   \n",
       "\n",
       "  Day_of_week X-Folder-split  message_length  contains-cc  contains-bcc  ...  \\\n",
       "0         Mon     'sent mail              20            0             0  ...   \n",
       "1         Fri     'sent mail             785            0             0  ...   \n",
       "2         Wed     'sent mail              30            0             0  ...   \n",
       "3         Mon     'sent mail             187            0             0  ...   \n",
       "4         Thu     'sent mail              33            0             0  ...   \n",
       "\n",
       "   embedding_290  embedding_291  embedding_292  embedding_293  embedding_294  \\\n",
       "0      -0.148438      -0.283203      -0.051758       0.112305       0.267578   \n",
       "1      -0.148438      -0.283203      -0.051758       0.112305       0.267578   \n",
       "2      -0.148438      -0.283203      -0.051758       0.112305       0.267578   \n",
       "3      -0.148438      -0.283203      -0.051758       0.112305       0.267578   \n",
       "4      -0.148438      -0.283203      -0.051758       0.112305       0.267578   \n",
       "\n",
       "   embedding_295  embedding_296 embedding_297  embedding_298  embedding_299  \n",
       "0       0.059082       0.144531     -0.091309      -0.069824      -0.021606  \n",
       "1       0.059082       0.144531     -0.091309      -0.069824      -0.021606  \n",
       "2       0.059082       0.144531     -0.091309      -0.069824      -0.021606  \n",
       "3       0.059082       0.144531     -0.091309      -0.069824      -0.021606  \n",
       "4       0.059082       0.144531     -0.091309      -0.069824      -0.021606  \n",
       "\n",
       "[5 rows x 318 columns]"
      ]
     },
     "execution_count": 14,
     "metadata": {},
     "output_type": "execute_result"
    }
   ],
   "source": [
    "embedded_df = pd.read_csv('siftmail/Datasets/Embedded_Dataset.csv')\n",
    "embedded_df.head()"
   ]
  },
  {
   "cell_type": "code",
   "execution_count": null,
   "metadata": {
    "colab": {
     "base_uri": "https://localhost:8080/",
     "height": 52
    },
    "colab_type": "code",
    "executionInfo": {
     "elapsed": 975,
     "status": "ok",
     "timestamp": 1557216522907,
     "user": {
      "displayName": "Arjun Patel",
      "photoUrl": "https://lh5.googleusercontent.com/-BlLPIwYkZoQ/AAAAAAAAAAI/AAAAAAAABy0/fGnMWZAEyF0/s64/photo.jpg",
      "userId": "15471468418524645217"
     },
     "user_tz": 420
    },
    "id": "db1AyA5Td75J",
    "outputId": "6bfde6e2-b0b8-4c78-9b2a-cae061f118bb"
   },
   "outputs": [
    {
     "name": "stdout",
     "output_type": "stream",
     "text": [
      "(71403, 26)\n",
      "(132454, 319)\n"
     ]
    }
   ],
   "source": [
    "#Final Dataset Shape Debug info\n",
    "#print(data_filtered.shape)\n",
    "#print(embedded_df.shape)"
   ]
  },
  {
   "cell_type": "code",
   "execution_count": 16,
   "metadata": {},
   "outputs": [
    {
     "name": "stdout",
     "output_type": "stream",
     "text": [
      "Loading preprocessed data...\n",
      "Preprocessed data shape: (517401, 17)\n",
      "Loading labels...\n",
      "Labels data shape: (1782, 4)\n",
      "Merging data with labels...\n",
      "Final master dataset shape: (101288, 18)\n",
      "Label distribution:\n",
      "label\n",
      "0.0      2355\n",
      "1.0     75361\n",
      "3.0      9835\n",
      "4.0      2719\n",
      "5.0      3376\n",
      "6.0       658\n",
      "7.0      3386\n",
      "8.0      1745\n",
      "9.0       305\n",
      "10.0     1548\n",
      "Name: count, dtype: int64\n",
      "Master dataset saved to: siftmail/Datasets/master_dataset.csv\n"
     ]
    }
   ],
   "source": [
    "def combine_preprocessed_with_labels(preprocessed_path: str = \"siftmail/Datasets/preprocessed_data.csv\", \n",
    "                                   labels_path: str = \"siftmail/Datasets/labeling.csv\",\n",
    "                                   output_path: str = \"siftmail/Datasets/master_dataset.csv\") -> pd.DataFrame:\n",
    "\n",
    "    try:\n",
    "        print(\"Loading preprocessed data...\")\n",
    "        preprocessed_df = pd.read_csv(preprocessed_path)\n",
    "        print(f\"Preprocessed data shape: {preprocessed_df.shape}\")\n",
    "        print(\"Loading labels...\")\n",
    "        labels_df = pd.read_csv(labels_path)\n",
    "        print(f\"Labels data shape: {labels_df.shape}\")\n",
    "        label_mapping = labels_df[labels_df['label'] != 2][['subject', 'label']].dropna()\n",
    "        label_mapping = label_mapping.drop_duplicates(subset=['subject'])\n",
    "        print(\"Merging data with labels...\")\n",
    "        master_dataset = preprocessed_df.merge(\n",
    "            label_mapping,\n",
    "            how='left',\n",
    "            left_on='X-Folder-split',\n",
    "            right_on='subject'\n",
    "        )\n",
    "        master_dataset = master_dataset.dropna(subset=['label'])\n",
    "\n",
    "        if 'subject' in master_dataset.columns:\n",
    "            master_dataset = master_dataset.drop('subject', axis=1)\n",
    "        \n",
    "        print(f\"Final master dataset shape: {master_dataset.shape}\")\n",
    "        print(f\"Label distribution:\\n{master_dataset['label'].value_counts().sort_index()}\")\n",
    "        master_dataset.to_csv(output_path, index=False)\n",
    "        print(f\"Master dataset saved to: {output_path}\")\n",
    "        return master_dataset\n",
    "        \n",
    "    except FileNotFoundError as e:\n",
    "        print(f\"File not found: {e}\")\n",
    "        return pd.DataFrame()\n",
    "    except Exception as e:\n",
    "        print(f\"Error combining datasets: {e}\")\n",
    "        return pd.DataFrame()\n",
    "\n",
    "\n",
    "master_df = combine_preprocessed_with_labels()"
   ]
  }
 ],
 "metadata": {
  "colab": {
   "collapsed_sections": [],
   "name": "MAIN_NOTEBOOK.ipynb",
   "provenance": [
    {
     "file_id": "0ByYbtoChpm1SVlNhVmU0STFNWUhKbzdsVHJPT2pidDdVdUVF",
     "timestamp": 1555110976262
    }
   ],
   "toc_visible": true,
   "version": "0.3.2"
  },
  "kernelspec": {
   "display_name": "Python 3 (ipykernel)",
   "language": "python",
   "name": "python3"
  }
 },
 "nbformat": 4,
 "nbformat_minor": 1
}
